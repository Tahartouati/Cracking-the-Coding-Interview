{
 "cells": [
  {
   "cell_type": "markdown",
   "id": "illegal-pottery",
   "metadata": {},
   "source": [
    "### 1.1"
   ]
  },
  {
   "cell_type": "code",
   "execution_count": 1,
   "id": "surgical-gateway",
   "metadata": {},
   "outputs": [],
   "source": [
    "#isUnique() v1:\n",
    "def isUnique(s):\n",
    "    hashMap = {}\n",
    "    \n",
    "    for c in s:\n",
    "        if c in hashMap.keys():\n",
    "            return False\n",
    "        hashMap[c] = 1\n",
    "    return True"
   ]
  },
  {
   "cell_type": "code",
   "execution_count": 19,
   "id": "absent-skirt",
   "metadata": {},
   "outputs": [
    {
     "data": {
      "text/plain": [
       "False"
      ]
     },
     "execution_count": 19,
     "metadata": {},
     "output_type": "execute_result"
    }
   ],
   "source": [
    "isUnique('ss')"
   ]
  },
  {
   "cell_type": "code",
   "execution_count": 33,
   "id": "musical-japan",
   "metadata": {},
   "outputs": [],
   "source": [
    "#isUnique() v2:\n",
    "def IsUniqueV2(s):\n",
    "    size = len(s)\n",
    "    for i in range(size-1):\n",
    "        \n",
    "        for j in range(i+1,size):\n",
    "            \n",
    "            if s[i] == s[j]:\n",
    "                return False\n",
    "    return True"
   ]
  },
  {
   "cell_type": "code",
   "execution_count": 43,
   "id": "waiting-shock",
   "metadata": {},
   "outputs": [
    {
     "data": {
      "text/plain": [
       "True"
      ]
     },
     "execution_count": 43,
     "metadata": {},
     "output_type": "execute_result"
    }
   ],
   "source": []
  },
  {
   "cell_type": "code",
   "execution_count": 1,
   "id": "radio-fusion",
   "metadata": {},
   "outputs": [],
   "source": [
    "#isUnique() v3: taking capital letters into account\n",
    "def IsUniqueV3(s):\n",
    "    hashMap = {}\n",
    "    \n",
    "    for c in s:\n",
    "        if c.lower() in hashMap.keys():\n",
    "            return False\n",
    "        hashMap[c.lower()] = 1\n",
    "    return True"
   ]
  },
  {
   "cell_type": "code",
   "execution_count": null,
   "id": "under-georgia",
   "metadata": {},
   "outputs": [],
   "source": []
  },
  {
   "cell_type": "markdown",
   "id": "accessory-richardson",
   "metadata": {},
   "source": [
    "### 1.2"
   ]
  },
  {
   "cell_type": "code",
   "execution_count": 62,
   "id": "large-tribe",
   "metadata": {},
   "outputs": [],
   "source": [
    "# checkPerm v1:\n",
    "def checkPerm(s1,s2):\n",
    "    if len(s1) != len(s2):\n",
    "        return False\n",
    "    check = {}\n",
    "    \n",
    "    for c in s1:\n",
    "        if c in check:\n",
    "            check[c] += 1\n",
    "        else:\n",
    "            check[c] = 1\n",
    "\n",
    "    for c in s2:\n",
    "        if c not in check.keys():\n",
    "            return False\n",
    "        check[c] -= 1\n",
    "    \n",
    "    for k in check.keys():\n",
    "        if check[k] != 0:\n",
    "            return False\n",
    "    \n",
    "    return True\n",
    "    \n",
    "#runtime: O(s1)\n",
    "#memory usage: O(unique characters in s1)/ O(s1) worste case\n",
    "        \n",
    "        \n",
    "    "
   ]
  },
  {
   "cell_type": "code",
   "execution_count": 70,
   "id": "skilled-composition",
   "metadata": {},
   "outputs": [
    {
     "data": {
      "text/plain": [
       "True"
      ]
     },
     "execution_count": 70,
     "metadata": {},
     "output_type": "execute_result"
    }
   ],
   "source": [
    "checkPerm('a','a')"
   ]
  },
  {
   "cell_type": "code",
   "execution_count": null,
   "id": "upset-shadow",
   "metadata": {},
   "outputs": [],
   "source": [
    "\n"
   ]
  },
  {
   "cell_type": "code",
   "execution_count": null,
   "id": "successful-expression",
   "metadata": {},
   "outputs": [],
   "source": []
  },
  {
   "cell_type": "markdown",
   "id": "israeli-spectacular",
   "metadata": {},
   "source": [
    "### 1.3"
   ]
  },
  {
   "cell_type": "code",
   "execution_count": 110,
   "id": "sexual-dryer",
   "metadata": {},
   "outputs": [],
   "source": [
    "#URLify v1:\n",
    "#condition to test this: put spaces*2 + 1 spaces after the last character that is not a space\n",
    "def URLify(s):\n",
    "    s = list(s)\n",
    "    size = len(s)\n",
    "    i = 0\n",
    "    \n",
    "    while i < len(s):\n",
    "        if s[i] == ' ':\n",
    "            store = s[i+1:size-3]\n",
    "            s[i:i+3] = '%20'\n",
    "            s[i+3:] = store\n",
    "            i += 3\n",
    "        else:\n",
    "            i += 1\n",
    "    \n",
    "    return ''.join(s)\n",
    "#runtime: O() = n + numberofspaces befor the last character * O(n) = n*spaces\n",
    "            \n",
    "        "
   ]
  },
  {
   "cell_type": "code",
   "execution_count": 111,
   "id": "indian-plane",
   "metadata": {},
   "outputs": [],
   "source": [
    "s= 'Mr John Smith     '"
   ]
  },
  {
   "cell_type": "code",
   "execution_count": 112,
   "id": "brazilian-center",
   "metadata": {},
   "outputs": [
    {
     "data": {
      "text/plain": [
       "'Mr%20John%20Smith'"
      ]
     },
     "execution_count": 112,
     "metadata": {},
     "output_type": "execute_result"
    }
   ],
   "source": [
    "URLify(s)"
   ]
  },
  {
   "cell_type": "code",
   "execution_count": 113,
   "id": "former-survey",
   "metadata": {},
   "outputs": [
    {
     "data": {
      "text/plain": [
       "5"
      ]
     },
     "execution_count": 113,
     "metadata": {},
     "output_type": "execute_result"
    }
   ],
   "source": [
    "len('     ')"
   ]
  },
  {
   "cell_type": "code",
   "execution_count": 114,
   "id": "front-grenada",
   "metadata": {},
   "outputs": [
    {
     "data": {
      "text/plain": [
       "18"
      ]
     },
     "execution_count": 114,
     "metadata": {},
     "output_type": "execute_result"
    }
   ],
   "source": [
    "len(s)"
   ]
  },
  {
   "cell_type": "code",
   "execution_count": 117,
   "id": "rural-imagination",
   "metadata": {},
   "outputs": [],
   "source": [
    "s = 'i am tahar  touati and my age is twentySix                   '"
   ]
  },
  {
   "cell_type": "code",
   "execution_count": 118,
   "id": "viral-identity",
   "metadata": {},
   "outputs": [
    {
     "data": {
      "text/plain": [
       "'i%20am%20tahar%20%20touati%20and%20my%20age%20is%20twentySix'"
      ]
     },
     "execution_count": 118,
     "metadata": {},
     "output_type": "execute_result"
    }
   ],
   "source": [
    "URLify(s)"
   ]
  },
  {
   "cell_type": "markdown",
   "id": "experienced-sight",
   "metadata": {},
   "source": [
    "### 1.4"
   ]
  },
  {
   "cell_type": "code",
   "execution_count": 132,
   "id": "abroad-nigeria",
   "metadata": {},
   "outputs": [],
   "source": [
    "# checkPalindromPerm v1, ignoring spaces, and we don't care for special characters, we also ignore casing.\n",
    "def checkPalindromPerm(s):\n",
    "    count = {}\n",
    "    sizeOfNoneSpaceChar = 0\n",
    "    for c in s:\n",
    "        if c == ' ':\n",
    "            continue\n",
    "        if c.lower() in count.keys():\n",
    "            count[c.lower()] += 1\n",
    "        else:\n",
    "            count[c.lower()] = 1\n",
    "        sizeOfNoneSpaceChar += 1\n",
    "\n",
    "    # two cases where a string can be permutated to a palindrome:\n",
    "        #case 1, len(sizeOfNoneSpaceChar)%2 == 0, condition:\n",
    "            #the count of each unique character is a multiple of 2\n",
    "        #case 2, len(sizeOfNoneSpaceChar)%2 == 0, conditions:\n",
    "            #the count of exactly unique 1 character should be %2=1\n",
    "            #the count of all the rest of unique characters is a multiple of 2\n",
    "    \n",
    "    case = sizeOfNoneSpaceChar%2\n",
    "    \n",
    "    countOfOdds = 0\n",
    "    \n",
    "    \n",
    "    for k in count.keys():\n",
    "        if count[k]%2 == 1:\n",
    "            countOfOdds += 1\n",
    "    \n",
    "    \n",
    "    return (case == 0 and countOfOdds == 0) or (case == 1 and countOfOdds == 1)\n",
    "    \n",
    "            "
   ]
  },
  {
   "cell_type": "code",
   "execution_count": 133,
   "id": "competitive-transmission",
   "metadata": {},
   "outputs": [
    {
     "data": {
      "text/plain": [
       "True"
      ]
     },
     "execution_count": 133,
     "metadata": {},
     "output_type": "execute_result"
    }
   ],
   "source": [
    "checkPalindromPerm('Tact Coa')"
   ]
  },
  {
   "cell_type": "code",
   "execution_count": 134,
   "id": "partial-western",
   "metadata": {},
   "outputs": [
    {
     "data": {
      "text/plain": [
       "True"
      ]
     },
     "execution_count": 134,
     "metadata": {},
     "output_type": "execute_result"
    }
   ],
   "source": [
    "checkPalindromPerm('papco copap')"
   ]
  },
  {
   "cell_type": "code",
   "execution_count": 135,
   "id": "durable-filling",
   "metadata": {},
   "outputs": [
    {
     "data": {
      "text/plain": [
       "True"
      ]
     },
     "execution_count": 135,
     "metadata": {},
     "output_type": "execute_result"
    }
   ],
   "source": [
    "checkPalindromPerm('pacco popap')"
   ]
  },
  {
   "cell_type": "code",
   "execution_count": 136,
   "id": "entire-uruguay",
   "metadata": {},
   "outputs": [
    {
     "data": {
      "text/plain": [
       "True"
      ]
     },
     "execution_count": 136,
     "metadata": {},
     "output_type": "execute_result"
    }
   ],
   "source": [
    "checkPalindromPerm('Tact oAc')"
   ]
  },
  {
   "cell_type": "code",
   "execution_count": 137,
   "id": "acquired-columbia",
   "metadata": {},
   "outputs": [
    {
     "data": {
      "text/plain": [
       "False"
      ]
     },
     "execution_count": 137,
     "metadata": {},
     "output_type": "execute_result"
    }
   ],
   "source": [
    "checkPalindromPerm('Tasdsct oAc')"
   ]
  },
  {
   "cell_type": "code",
   "execution_count": 138,
   "id": "micro-world",
   "metadata": {},
   "outputs": [
    {
     "data": {
      "text/plain": [
       "True"
      ]
     },
     "execution_count": 138,
     "metadata": {},
     "output_type": "execute_result"
    }
   ],
   "source": [
    "checkPalindromPerm('papApap')"
   ]
  },
  {
   "cell_type": "code",
   "execution_count": 139,
   "id": "diagnostic-boulder",
   "metadata": {},
   "outputs": [
    {
     "data": {
      "text/plain": [
       "True"
      ]
     },
     "execution_count": 139,
     "metadata": {},
     "output_type": "execute_result"
    }
   ],
   "source": [
    "checkPalindromPerm('pa11pApap')"
   ]
  },
  {
   "cell_type": "code",
   "execution_count": 141,
   "id": "copyrighted-treatment",
   "metadata": {},
   "outputs": [
    {
     "data": {
      "text/plain": [
       "True"
      ]
     },
     "execution_count": 141,
     "metadata": {},
     "output_type": "execute_result"
    }
   ],
   "source": [
    "checkPalindromPerm('caca cac')"
   ]
  },
  {
   "cell_type": "code",
   "execution_count": 142,
   "id": "applied-medicine",
   "metadata": {},
   "outputs": [
    {
     "data": {
      "text/plain": [
       "True"
      ]
     },
     "execution_count": 142,
     "metadata": {},
     "output_type": "execute_result"
    }
   ],
   "source": [
    "checkPalindromPerm('rince the thcnir')"
   ]
  },
  {
   "cell_type": "markdown",
   "id": "aggressive-disaster",
   "metadata": {},
   "source": [
    "### 1.5"
   ]
  },
  {
   "cell_type": "code",
   "execution_count": 4,
   "id": "important-sarah",
   "metadata": {},
   "outputs": [],
   "source": [
    "# One Away v1:\n",
    "def OneAway(s1,s2):\n",
    "    if len(s1) == len(s2):\n",
    "        #TODO\n",
    "        i = 0\n",
    "        countdiff = 0 \n",
    "        while i < len(s1):\n",
    "            if s1[i] != s2[i]:\n",
    "                countdiff += 1\n",
    "            i += 1\n",
    "        return countdiff <= 1\n",
    "    elif abs(len(s1) - len(s2)) == 1:\n",
    "        #TODO\n",
    "        i = 0\n",
    "        \n",
    "        oneDiff = False\n",
    "        S1BiggerS2 = len(s1) > len(s2)\n",
    "        while i < len(s1) and i < len(s2):\n",
    "            if oneDiff:\n",
    "                if S1BiggerS2 and s1[i+1] != s2[i]: return False\n",
    "                if not S1BiggerS2 and s1[i] != s2[i+1]: return False\n",
    "            else:\n",
    "                if s1[i] != s2[i]:\n",
    "                    oneDiff = True\n",
    "            i += 1\n",
    "        \n",
    "        \n",
    "        return (not oneDiff and s1[-1] != s2[-1] ) or ( oneDiff and s1[-1] == s2[-1])\n",
    "    \n",
    "    return False"
   ]
  },
  {
   "cell_type": "code",
   "execution_count": 5,
   "id": "juvenile-induction",
   "metadata": {},
   "outputs": [
    {
     "data": {
      "text/plain": [
       "True"
      ]
     },
     "execution_count": 5,
     "metadata": {},
     "output_type": "execute_result"
    }
   ],
   "source": [
    "OneAway('SAME','SAME')"
   ]
  },
  {
   "cell_type": "code",
   "execution_count": 6,
   "id": "psychological-decimal",
   "metadata": {},
   "outputs": [
    {
     "data": {
      "text/plain": [
       "True"
      ]
     },
     "execution_count": 6,
     "metadata": {},
     "output_type": "execute_result"
    }
   ],
   "source": [
    "OneAway('This','Tis')"
   ]
  },
  {
   "cell_type": "code",
   "execution_count": 8,
   "id": "difficult-printer",
   "metadata": {},
   "outputs": [
    {
     "data": {
      "text/plain": [
       "True"
      ]
     },
     "execution_count": 8,
     "metadata": {},
     "output_type": "execute_result"
    }
   ],
   "source": [
    "OneAway('c','ca')"
   ]
  },
  {
   "cell_type": "code",
   "execution_count": 9,
   "id": "recovered-violence",
   "metadata": {},
   "outputs": [
    {
     "data": {
      "text/plain": [
       "False"
      ]
     },
     "execution_count": 9,
     "metadata": {},
     "output_type": "execute_result"
    }
   ],
   "source": [
    "OneAway('cxx','ca')"
   ]
  },
  {
   "cell_type": "code",
   "execution_count": 10,
   "id": "native-theater",
   "metadata": {},
   "outputs": [
    {
     "data": {
      "text/plain": [
       "True"
      ]
     },
     "execution_count": 10,
     "metadata": {},
     "output_type": "execute_result"
    }
   ],
   "source": [
    "OneAway('cxx','cax')"
   ]
  },
  {
   "cell_type": "code",
   "execution_count": 11,
   "id": "chronic-madness",
   "metadata": {},
   "outputs": [
    {
     "data": {
      "text/plain": [
       "True"
      ]
     },
     "execution_count": 11,
     "metadata": {},
     "output_type": "execute_result"
    }
   ],
   "source": [
    "OneAway('this is so cool','this is socool')"
   ]
  },
  {
   "cell_type": "code",
   "execution_count": 15,
   "id": "accomplished-saskatchewan",
   "metadata": {},
   "outputs": [
    {
     "data": {
      "text/plain": [
       "True"
      ]
     },
     "execution_count": 15,
     "metadata": {},
     "output_type": "execute_result"
    }
   ],
   "source": [
    "OneAway('','')"
   ]
  },
  {
   "cell_type": "code",
   "execution_count": null,
   "id": "convertible-earthquake",
   "metadata": {},
   "outputs": [],
   "source": [
    "OneAway('','')"
   ]
  }
 ],
 "metadata": {
  "kernelspec": {
   "display_name": "Python 3",
   "language": "python",
   "name": "python3"
  },
  "language_info": {
   "codemirror_mode": {
    "name": "ipython",
    "version": 3
   },
   "file_extension": ".py",
   "mimetype": "text/x-python",
   "name": "python",
   "nbconvert_exporter": "python",
   "pygments_lexer": "ipython3",
   "version": "3.7.3"
  }
 },
 "nbformat": 4,
 "nbformat_minor": 5
}
