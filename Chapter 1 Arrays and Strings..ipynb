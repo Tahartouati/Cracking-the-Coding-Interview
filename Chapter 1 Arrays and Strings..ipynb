{
 "cells": [
  {
   "cell_type": "markdown",
   "id": "korean-bradford",
   "metadata": {},
   "source": [
    "### 1.1"
   ]
  },
  {
   "cell_type": "code",
   "execution_count": 1,
   "id": "previous-momentum",
   "metadata": {},
   "outputs": [],
   "source": [
    "#isUnique() v1:\n",
    "def isUnique(s):\n",
    "    hashMap = {}\n",
    "    \n",
    "    for c in s:\n",
    "        if c in hashMap.keys():\n",
    "            return False\n",
    "        hashMap[c] = 1\n",
    "    return True"
   ]
  },
  {
   "cell_type": "code",
   "execution_count": 19,
   "id": "rocky-christopher",
   "metadata": {},
   "outputs": [
    {
     "data": {
      "text/plain": [
       "False"
      ]
     },
     "execution_count": 19,
     "metadata": {},
     "output_type": "execute_result"
    }
   ],
   "source": [
    "isUnique('ss')"
   ]
  },
  {
   "cell_type": "code",
   "execution_count": 33,
   "id": "regulation-daniel",
   "metadata": {},
   "outputs": [],
   "source": [
    "#isUnique() v2:\n",
    "def IsUniqueV2(s):\n",
    "    size = len(s)\n",
    "    for i in range(size-1):\n",
    "        \n",
    "        for j in range(i+1,size):\n",
    "            \n",
    "            if s[i] == s[j]:\n",
    "                return False\n",
    "    return True"
   ]
  },
  {
   "cell_type": "code",
   "execution_count": 43,
   "id": "proof-purse",
   "metadata": {},
   "outputs": [
    {
     "data": {
      "text/plain": [
       "True"
      ]
     },
     "execution_count": 43,
     "metadata": {},
     "output_type": "execute_result"
    }
   ],
   "source": []
  },
  {
   "cell_type": "code",
   "execution_count": 1,
   "id": "appreciated-photograph",
   "metadata": {},
   "outputs": [],
   "source": [
    "#isUnique() v3: taking capital letters into account\n",
    "def IsUniqueV3(s):\n",
    "    hashMap = {}\n",
    "    \n",
    "    for c in s:\n",
    "        if c.lower() in hashMap.keys():\n",
    "            return False\n",
    "        hashMap[c.lower()] = 1\n",
    "    return True"
   ]
  },
  {
   "cell_type": "code",
   "execution_count": null,
   "id": "useful-processor",
   "metadata": {},
   "outputs": [],
   "source": []
  },
  {
   "cell_type": "markdown",
   "id": "improving-content",
   "metadata": {},
   "source": [
    "### 1.2"
   ]
  },
  {
   "cell_type": "code",
   "execution_count": 62,
   "id": "suited-joseph",
   "metadata": {},
   "outputs": [],
   "source": [
    "# checkPerm v1:\n",
    "def checkPerm(s1,s2):\n",
    "    if len(s1) != len(s2):\n",
    "        return False\n",
    "    check = {}\n",
    "    \n",
    "    for c in s1:\n",
    "        if c in check:\n",
    "            check[c] += 1\n",
    "        else:\n",
    "            check[c] = 1\n",
    "\n",
    "    for c in s2:\n",
    "        if c not in check.keys():\n",
    "            return False\n",
    "        check[c] -= 1\n",
    "    \n",
    "    for k in check.keys():\n",
    "        if check[k] != 0:\n",
    "            return False\n",
    "    \n",
    "    return True\n",
    "    \n",
    "#runtime: O(s1)\n",
    "#memory usage: O(unique characters in s1)/ O(s1) worste case\n",
    "        \n",
    "        \n",
    "    "
   ]
  },
  {
   "cell_type": "code",
   "execution_count": 70,
   "id": "democratic-system",
   "metadata": {},
   "outputs": [
    {
     "data": {
      "text/plain": [
       "True"
      ]
     },
     "execution_count": 70,
     "metadata": {},
     "output_type": "execute_result"
    }
   ],
   "source": [
    "checkPerm('a','a')"
   ]
  },
  {
   "cell_type": "code",
   "execution_count": null,
   "id": "injured-hazard",
   "metadata": {},
   "outputs": [],
   "source": [
    "\n"
   ]
  },
  {
   "cell_type": "code",
   "execution_count": null,
   "id": "vulnerable-shower",
   "metadata": {},
   "outputs": [],
   "source": []
  },
  {
   "cell_type": "markdown",
   "id": "blocked-technician",
   "metadata": {},
   "source": [
    "### 1.3"
   ]
  },
  {
   "cell_type": "code",
   "execution_count": 110,
   "id": "french-daniel",
   "metadata": {},
   "outputs": [],
   "source": [
    "#URLify v1:\n",
    "#condition to test this: put spaces*2 + 1 spaces after the last character that is not a space\n",
    "def URLify(s):\n",
    "    s = list(s)\n",
    "    size = len(s)\n",
    "    i = 0\n",
    "    \n",
    "    while i < len(s):\n",
    "        if s[i] == ' ':\n",
    "            store = s[i+1:size-3]\n",
    "            s[i:i+3] = '%20'\n",
    "            s[i+3:] = store\n",
    "            i += 3\n",
    "        else:\n",
    "            i += 1\n",
    "    \n",
    "    return ''.join(s)\n",
    "#runtime: O() = n + numberofspaces befor the last character * O(n) = n*spaces\n",
    "            \n",
    "        "
   ]
  },
  {
   "cell_type": "code",
   "execution_count": 111,
   "id": "terminal-segment",
   "metadata": {},
   "outputs": [],
   "source": [
    "s= 'Mr John Smith     '"
   ]
  },
  {
   "cell_type": "code",
   "execution_count": 112,
   "id": "introductory-sudan",
   "metadata": {},
   "outputs": [
    {
     "data": {
      "text/plain": [
       "'Mr%20John%20Smith'"
      ]
     },
     "execution_count": 112,
     "metadata": {},
     "output_type": "execute_result"
    }
   ],
   "source": [
    "URLify(s)"
   ]
  },
  {
   "cell_type": "code",
   "execution_count": 113,
   "id": "thirty-hammer",
   "metadata": {},
   "outputs": [
    {
     "data": {
      "text/plain": [
       "5"
      ]
     },
     "execution_count": 113,
     "metadata": {},
     "output_type": "execute_result"
    }
   ],
   "source": [
    "len('     ')"
   ]
  },
  {
   "cell_type": "code",
   "execution_count": 114,
   "id": "contrary-cattle",
   "metadata": {},
   "outputs": [
    {
     "data": {
      "text/plain": [
       "18"
      ]
     },
     "execution_count": 114,
     "metadata": {},
     "output_type": "execute_result"
    }
   ],
   "source": [
    "len(s)"
   ]
  },
  {
   "cell_type": "code",
   "execution_count": 117,
   "id": "broken-valley",
   "metadata": {},
   "outputs": [],
   "source": [
    "s = 'i am tahar  touati and my age is twentySix                   '"
   ]
  },
  {
   "cell_type": "code",
   "execution_count": 118,
   "id": "growing-hanging",
   "metadata": {},
   "outputs": [
    {
     "data": {
      "text/plain": [
       "'i%20am%20tahar%20%20touati%20and%20my%20age%20is%20twentySix'"
      ]
     },
     "execution_count": 118,
     "metadata": {},
     "output_type": "execute_result"
    }
   ],
   "source": [
    "URLify(s)"
   ]
  },
  {
   "cell_type": "markdown",
   "id": "behind-broadway",
   "metadata": {},
   "source": [
    "### 1.4"
   ]
  },
  {
   "cell_type": "code",
   "execution_count": 132,
   "id": "corporate-german",
   "metadata": {},
   "outputs": [],
   "source": [
    "# checkPalindromPerm v1, ignoring spaces, and we don't care for special characters, we also ignore casing.\n",
    "def checkPalindromPerm(s):\n",
    "    count = {}\n",
    "    sizeOfNoneSpaceChar = 0\n",
    "    for c in s:\n",
    "        if c == ' ':\n",
    "            continue\n",
    "        if c.lower() in count.keys():\n",
    "            count[c.lower()] += 1\n",
    "        else:\n",
    "            count[c.lower()] = 1\n",
    "        sizeOfNoneSpaceChar += 1\n",
    "\n",
    "    # two cases where a string can be permutated to a palindrome:\n",
    "        #case 1, len(sizeOfNoneSpaceChar)%2 == 0, condition:\n",
    "            #the count of each unique character is a multiple of 2\n",
    "        #case 2, len(sizeOfNoneSpaceChar)%2 == 0, conditions:\n",
    "            #the count of exactly unique 1 character should be %2=1\n",
    "            #the count of all the rest of unique characters is a multiple of 2\n",
    "    \n",
    "    case = sizeOfNoneSpaceChar%2\n",
    "    \n",
    "    countOfOdds = 0\n",
    "    \n",
    "    \n",
    "    for k in count.keys():\n",
    "        if count[k]%2 == 1:\n",
    "            countOfOdds += 1\n",
    "    \n",
    "    \n",
    "    return (case == 0 and countOfOdds == 0) or (case == 1 and countOfOdds == 1)\n",
    "    \n",
    "            "
   ]
  },
  {
   "cell_type": "code",
   "execution_count": 133,
   "id": "incorporate-prague",
   "metadata": {},
   "outputs": [
    {
     "data": {
      "text/plain": [
       "True"
      ]
     },
     "execution_count": 133,
     "metadata": {},
     "output_type": "execute_result"
    }
   ],
   "source": [
    "checkPalindromPerm('Tact Coa')"
   ]
  },
  {
   "cell_type": "code",
   "execution_count": 134,
   "id": "declared-composite",
   "metadata": {},
   "outputs": [
    {
     "data": {
      "text/plain": [
       "True"
      ]
     },
     "execution_count": 134,
     "metadata": {},
     "output_type": "execute_result"
    }
   ],
   "source": [
    "checkPalindromPerm('papco copap')"
   ]
  },
  {
   "cell_type": "code",
   "execution_count": 135,
   "id": "generous-teach",
   "metadata": {},
   "outputs": [
    {
     "data": {
      "text/plain": [
       "True"
      ]
     },
     "execution_count": 135,
     "metadata": {},
     "output_type": "execute_result"
    }
   ],
   "source": [
    "checkPalindromPerm('pacco popap')"
   ]
  },
  {
   "cell_type": "code",
   "execution_count": 136,
   "id": "brief-minimum",
   "metadata": {},
   "outputs": [
    {
     "data": {
      "text/plain": [
       "True"
      ]
     },
     "execution_count": 136,
     "metadata": {},
     "output_type": "execute_result"
    }
   ],
   "source": [
    "checkPalindromPerm('Tact oAc')"
   ]
  },
  {
   "cell_type": "code",
   "execution_count": 137,
   "id": "bright-theta",
   "metadata": {},
   "outputs": [
    {
     "data": {
      "text/plain": [
       "False"
      ]
     },
     "execution_count": 137,
     "metadata": {},
     "output_type": "execute_result"
    }
   ],
   "source": [
    "checkPalindromPerm('Tasdsct oAc')"
   ]
  },
  {
   "cell_type": "code",
   "execution_count": 138,
   "id": "quiet-counter",
   "metadata": {},
   "outputs": [
    {
     "data": {
      "text/plain": [
       "True"
      ]
     },
     "execution_count": 138,
     "metadata": {},
     "output_type": "execute_result"
    }
   ],
   "source": [
    "checkPalindromPerm('papApap')"
   ]
  },
  {
   "cell_type": "code",
   "execution_count": 139,
   "id": "practical-scout",
   "metadata": {},
   "outputs": [
    {
     "data": {
      "text/plain": [
       "True"
      ]
     },
     "execution_count": 139,
     "metadata": {},
     "output_type": "execute_result"
    }
   ],
   "source": [
    "checkPalindromPerm('pa11pApap')"
   ]
  },
  {
   "cell_type": "code",
   "execution_count": 141,
   "id": "indoor-matthew",
   "metadata": {},
   "outputs": [
    {
     "data": {
      "text/plain": [
       "True"
      ]
     },
     "execution_count": 141,
     "metadata": {},
     "output_type": "execute_result"
    }
   ],
   "source": [
    "checkPalindromPerm('caca cac')"
   ]
  },
  {
   "cell_type": "code",
   "execution_count": 142,
   "id": "infinite-tracy",
   "metadata": {},
   "outputs": [
    {
     "data": {
      "text/plain": [
       "True"
      ]
     },
     "execution_count": 142,
     "metadata": {},
     "output_type": "execute_result"
    }
   ],
   "source": [
    "checkPalindromPerm('rince the thcnir')"
   ]
  },
  {
   "cell_type": "markdown",
   "id": "upper-microwave",
   "metadata": {},
   "source": [
    "### 1.5"
   ]
  },
  {
   "cell_type": "code",
   "execution_count": 16,
   "id": "immune-breakdown",
   "metadata": {},
   "outputs": [],
   "source": [
    "# One Away v1:\n",
    "def OneAway(s1,s2):\n",
    "    if len(s1) == len(s2):\n",
    "        #TODO\n",
    "        i = 0\n",
    "        countdiff = 0 \n",
    "        while i < len(s1):\n",
    "            if s1[i] != s2[i]:\n",
    "                countdiff += 1\n",
    "            i += 1\n",
    "        return countdiff <= 1\n",
    "    elif abs(len(s1) - len(s2)) == 1:\n",
    "        if len(s1) == 0 or len(s2) == 0:\n",
    "            return True\n",
    "        #TODO\n",
    "        i = 0\n",
    "        \n",
    "        oneDiff = False\n",
    "        S1BiggerS2 = len(s1) > len(s2)\n",
    "        while i < len(s1) and i < len(s2):\n",
    "            if oneDiff:\n",
    "                if S1BiggerS2 and s1[i+1] != s2[i]: return False\n",
    "                if not S1BiggerS2 and s1[i] != s2[i+1]: return False\n",
    "            else:\n",
    "                if s1[i] != s2[i]:\n",
    "                    oneDiff = True\n",
    "            i += 1\n",
    "        \n",
    "        \n",
    "        return (not oneDiff and s1[-1] != s2[-1] ) or ( oneDiff and s1[-1] == s2[-1])\n",
    "    \n",
    "    return False"
   ]
  },
  {
   "cell_type": "code",
   "execution_count": 5,
   "id": "small-fashion",
   "metadata": {},
   "outputs": [
    {
     "data": {
      "text/plain": [
       "True"
      ]
     },
     "execution_count": 5,
     "metadata": {},
     "output_type": "execute_result"
    }
   ],
   "source": [
    "OneAway('SAME','SAME')"
   ]
  },
  {
   "cell_type": "code",
   "execution_count": 6,
   "id": "mature-illinois",
   "metadata": {},
   "outputs": [
    {
     "data": {
      "text/plain": [
       "True"
      ]
     },
     "execution_count": 6,
     "metadata": {},
     "output_type": "execute_result"
    }
   ],
   "source": [
    "OneAway('This','Tis')"
   ]
  },
  {
   "cell_type": "code",
   "execution_count": 8,
   "id": "wrong-illness",
   "metadata": {},
   "outputs": [
    {
     "data": {
      "text/plain": [
       "True"
      ]
     },
     "execution_count": 8,
     "metadata": {},
     "output_type": "execute_result"
    }
   ],
   "source": [
    "OneAway('c','ca')"
   ]
  },
  {
   "cell_type": "code",
   "execution_count": 9,
   "id": "surrounded-thriller",
   "metadata": {},
   "outputs": [
    {
     "data": {
      "text/plain": [
       "False"
      ]
     },
     "execution_count": 9,
     "metadata": {},
     "output_type": "execute_result"
    }
   ],
   "source": [
    "OneAway('cxx','ca')"
   ]
  },
  {
   "cell_type": "code",
   "execution_count": 10,
   "id": "molecular-yield",
   "metadata": {},
   "outputs": [
    {
     "data": {
      "text/plain": [
       "True"
      ]
     },
     "execution_count": 10,
     "metadata": {},
     "output_type": "execute_result"
    }
   ],
   "source": [
    "OneAway('cxx','cax')"
   ]
  },
  {
   "cell_type": "code",
   "execution_count": 11,
   "id": "located-relative",
   "metadata": {},
   "outputs": [
    {
     "data": {
      "text/plain": [
       "True"
      ]
     },
     "execution_count": 11,
     "metadata": {},
     "output_type": "execute_result"
    }
   ],
   "source": [
    "OneAway('this is so cool','this is socool')"
   ]
  },
  {
   "cell_type": "code",
   "execution_count": 15,
   "id": "external-fossil",
   "metadata": {},
   "outputs": [
    {
     "data": {
      "text/plain": [
       "True"
      ]
     },
     "execution_count": 15,
     "metadata": {},
     "output_type": "execute_result"
    }
   ],
   "source": [
    "OneAway('','')"
   ]
  },
  {
   "cell_type": "code",
   "execution_count": 17,
   "id": "ceramic-emission",
   "metadata": {},
   "outputs": [
    {
     "data": {
      "text/plain": [
       "True"
      ]
     },
     "execution_count": 17,
     "metadata": {},
     "output_type": "execute_result"
    }
   ],
   "source": [
    "OneAway('','a')"
   ]
  },
  {
   "cell_type": "markdown",
   "id": "alone-liberia",
   "metadata": {},
   "source": [
    "### 1.6"
   ]
  },
  {
   "cell_type": "code",
   "execution_count": 23,
   "id": "celtic-provincial",
   "metadata": {},
   "outputs": [],
   "source": [
    "def compressString(chars):\n",
    "    ret = \"\"\n",
    "    prev = chars[0]\n",
    "    count = 1\n",
    "    for i in range(1,len(chars)):\n",
    "        if chars[i] == prev:\n",
    "            count += 1\n",
    "        else:\n",
    "            ret += prev + str(count)\n",
    "            count = 1\n",
    "            prev = chars[i]\n",
    "    ret += chars[-1] + str(count) \n",
    "    if len(ret) < len(chars):\n",
    "        return ret\n",
    "\n",
    "    return chars"
   ]
  },
  {
   "cell_type": "code",
   "execution_count": 24,
   "id": "banner-january",
   "metadata": {},
   "outputs": [
    {
     "data": {
      "text/plain": [
       "'a3b2c2'"
      ]
     },
     "execution_count": 24,
     "metadata": {},
     "output_type": "execute_result"
    }
   ],
   "source": [
    "compressString('aaabbcc')"
   ]
  },
  {
   "cell_type": "code",
   "execution_count": 29,
   "id": "geographic-scoop",
   "metadata": {},
   "outputs": [
    {
     "data": {
      "text/plain": [
       "'abcaaaa'"
      ]
     },
     "execution_count": 29,
     "metadata": {},
     "output_type": "execute_result"
    }
   ],
   "source": [
    "compressString('abcaaaa') #a1b1c1a4"
   ]
  },
  {
   "cell_type": "code",
   "execution_count": 30,
   "id": "comparative-elements",
   "metadata": {},
   "outputs": [
    {
     "data": {
      "text/plain": [
       "'abbcaaaa'"
      ]
     },
     "execution_count": 30,
     "metadata": {},
     "output_type": "execute_result"
    }
   ],
   "source": [
    "compressString('abbcaaaa') #a1b2c1a4"
   ]
  },
  {
   "cell_type": "code",
   "execution_count": 32,
   "id": "copyrighted-smooth",
   "metadata": {},
   "outputs": [
    {
     "data": {
      "text/plain": [
       "'i1t4I1s3W1o2r1k1i3n3g1F1i7n1e1'"
      ]
     },
     "execution_count": 32,
     "metadata": {},
     "output_type": "execute_result"
    }
   ],
   "source": [
    "compressString('ittttIsssWoorkiiinnngFiiiiiiine')"
   ]
  },
  {
   "cell_type": "markdown",
   "id": "diverse-browse",
   "metadata": {},
   "source": [
    "### 1.7"
   ]
  },
  {
   "cell_type": "code",
   "execution_count": 52,
   "id": "crude-christian",
   "metadata": {},
   "outputs": [],
   "source": [
    "def printMax(matrix):\n",
    "    for i in range(len(matrix)):\n",
    "        print()\n",
    "        for j in range(len(matrix[0])):\n",
    "            print(matrix[i][j],end= \" \")\n",
    "    print()"
   ]
  },
  {
   "cell_type": "code",
   "execution_count": 46,
   "id": "eastern-commander",
   "metadata": {},
   "outputs": [],
   "source": [
    "#rotate matrix version 1:\n",
    "def rotateMat(matrix):\n",
    "    printMax(matrix)\n",
    "    for z in range ((len(matrix))//2):\n",
    "\n",
    "        for i in range(z,len(matrix) - 1-z):\n",
    "            temp1 = matrix[z][i]\n",
    "            temp2 = matrix[i][len(matrix)-1-z]\n",
    "            temp3 = matrix[len(matrix)-1-z][len(matrix)-1-i]\n",
    "            temp4 = matrix[len(matrix)-1-i][z]\n",
    "\n",
    "            #print(temp1,temp2,temp3,temp4)\n",
    "            matrix[z][i] = temp4\n",
    "            matrix[i][len(matrix)-1-z] = temp1\n",
    "            matrix[len(matrix)-1-z][len(matrix)-1-i] = temp2\n",
    "            matrix[len(matrix)-1-i][z] = temp3\n",
    "    print()\n",
    "    print('___Result____')\n",
    "    printMax(matrix)\n",
    "            \n",
    "    return matrix"
   ]
  },
  {
   "cell_type": "code",
   "execution_count": 47,
   "id": "superior-thunder",
   "metadata": {},
   "outputs": [],
   "source": [
    "#test case:\n",
    "a = [[1,2,3],[4,5,6],[7,8,9]]\n",
    "b = [[5,1,9,11],[2,4,8,10],[13,3,6,7],[15,14,12,16]]\n",
    "c = [[1]]\n",
    "d = [[1,2],[3,4]]"
   ]
  },
  {
   "cell_type": "code",
   "execution_count": 48,
   "id": "accompanied-battlefield",
   "metadata": {},
   "outputs": [
    {
     "name": "stdout",
     "output_type": "stream",
     "text": [
      "\n",
      "1 2 3 \n",
      "4 5 6 \n",
      "7 8 9 \n",
      "___Result____\n",
      "\n",
      "7 4 1 \n",
      "8 5 2 \n",
      "9 6 3 "
     ]
    },
    {
     "data": {
      "text/plain": [
       "[[7, 4, 1], [8, 5, 2], [9, 6, 3]]"
      ]
     },
     "execution_count": 48,
     "metadata": {},
     "output_type": "execute_result"
    }
   ],
   "source": [
    "rotateMat(a)"
   ]
  },
  {
   "cell_type": "code",
   "execution_count": 49,
   "id": "patient-career",
   "metadata": {},
   "outputs": [
    {
     "name": "stdout",
     "output_type": "stream",
     "text": [
      "\n",
      "5 1 9 11 \n",
      "2 4 8 10 \n",
      "13 3 6 7 \n",
      "15 14 12 16 \n",
      "___Result____\n",
      "\n",
      "15 13 2 5 \n",
      "14 3 4 1 \n",
      "12 6 8 9 \n",
      "16 7 10 11 "
     ]
    },
    {
     "data": {
      "text/plain": [
       "[[15, 13, 2, 5], [14, 3, 4, 1], [12, 6, 8, 9], [16, 7, 10, 11]]"
      ]
     },
     "execution_count": 49,
     "metadata": {},
     "output_type": "execute_result"
    }
   ],
   "source": [
    "rotateMat(b)"
   ]
  },
  {
   "cell_type": "code",
   "execution_count": 50,
   "id": "equal-quality",
   "metadata": {},
   "outputs": [
    {
     "name": "stdout",
     "output_type": "stream",
     "text": [
      "\n",
      "1 \n",
      "___Result____\n",
      "\n",
      "1 "
     ]
    },
    {
     "data": {
      "text/plain": [
       "[[1]]"
      ]
     },
     "execution_count": 50,
     "metadata": {},
     "output_type": "execute_result"
    }
   ],
   "source": [
    "rotateMat(c)"
   ]
  },
  {
   "cell_type": "code",
   "execution_count": 51,
   "id": "raising-ideal",
   "metadata": {},
   "outputs": [
    {
     "name": "stdout",
     "output_type": "stream",
     "text": [
      "\n",
      "1 2 \n",
      "3 4 \n",
      "___Result____\n",
      "\n",
      "3 1 \n",
      "4 2 "
     ]
    },
    {
     "data": {
      "text/plain": [
       "[[3, 1], [4, 2]]"
      ]
     },
     "execution_count": 51,
     "metadata": {},
     "output_type": "execute_result"
    }
   ],
   "source": [
    "rotateMat(d)"
   ]
  },
  {
   "cell_type": "code",
   "execution_count": 53,
   "id": "requested-bargain",
   "metadata": {},
   "outputs": [],
   "source": [
    "#rotate matrix version 2, improve memory usage:\n",
    "def rotateMat2(matrix):\n",
    "    printMax(matrix)\n",
    "    for z in range ((len(matrix))//2):\n",
    "        print('this is z',z)\n",
    "        for i in range(z,len(matrix) - 1-z):\n",
    "            temp1 = matrix[z][i]\n",
    "            temp4 = matrix[len(matrix)-1-i][z]\n",
    "            #update\n",
    "            matrix[z][i] = temp4\n",
    "            #update\n",
    "            matrix[len(matrix)-1-i][z] = matrix[len(matrix)-1-z][len(matrix)-1-i]\n",
    "            temp4 = matrix[i][len(matrix)-1-z]\n",
    "            #update\n",
    "            matrix[i][len(matrix)-1-z] = temp1\n",
    "            #update\n",
    "            matrix[len(matrix)-1-z][len(matrix)-1-i] = temp4\n",
    "        \n",
    "                \n",
    "    print('__results__')\n",
    "    printMax(matrix)\n",
    "            \n",
    "    return matrix"
   ]
  },
  {
   "cell_type": "code",
   "execution_count": 54,
   "id": "trying-federal",
   "metadata": {},
   "outputs": [
    {
     "name": "stdout",
     "output_type": "stream",
     "text": [
      "\n",
      "15 13 2 5 \n",
      "14 3 4 1 \n",
      "12 6 8 9 \n",
      "16 7 10 11 \n",
      "\n",
      "___Result____\n",
      "\n",
      "16 12 14 15 \n",
      "7 6 3 13 \n",
      "10 8 4 2 \n",
      "11 9 1 5 \n"
     ]
    },
    {
     "data": {
      "text/plain": [
       "[[16, 12, 14, 15], [7, 6, 3, 13], [10, 8, 4, 2], [11, 9, 1, 5]]"
      ]
     },
     "execution_count": 54,
     "metadata": {},
     "output_type": "execute_result"
    }
   ],
   "source": [
    "rotateMat(b)"
   ]
  },
  {
   "cell_type": "code",
   "execution_count": 55,
   "id": "stone-occasions",
   "metadata": {},
   "outputs": [
    {
     "name": "stdout",
     "output_type": "stream",
     "text": [
      "\n",
      "16 12 14 15 \n",
      "7 6 3 13 \n",
      "10 8 4 2 \n",
      "11 9 1 5 \n",
      "\n",
      "___Result____\n",
      "\n",
      "11 10 7 16 \n",
      "9 8 6 12 \n",
      "1 4 3 14 \n",
      "5 2 13 15 \n"
     ]
    },
    {
     "data": {
      "text/plain": [
       "[[11, 10, 7, 16], [9, 8, 6, 12], [1, 4, 3, 14], [5, 2, 13, 15]]"
      ]
     },
     "execution_count": 55,
     "metadata": {},
     "output_type": "execute_result"
    }
   ],
   "source": [
    "rotateMat(b)"
   ]
  },
  {
   "cell_type": "markdown",
   "id": "increased-flush",
   "metadata": {},
   "source": [
    "### 1.8"
   ]
  },
  {
   "cell_type": "code",
   "execution_count": 68,
   "id": "pending-trail",
   "metadata": {},
   "outputs": [],
   "source": [
    "# zeroMatrix\n",
    "def zeroMat(matrix):\n",
    "    #process the columns and rows, but only those before the actual cell.\n",
    "    def process(x,y):\n",
    "\n",
    "\n",
    "        for i in range(x):\n",
    "            print('inside process', i,y)\n",
    "            matrix[i][y] = 0\n",
    "        for j in range(y):\n",
    "            print('inside process',x,j)\n",
    "            matrix[x][j] = 0\n",
    "\n",
    "\n",
    "    #keep track of the rows to process\n",
    "    processedRows = {}\n",
    "    #keep track of the columns to process\n",
    "    processedColumns = {}\n",
    "\n",
    "\n",
    "    for i in range(len(matrix)):    \n",
    "        for j in range(len(matrix[0])):\n",
    "            #do this check first, so we don't rewrite a cell to 0\n",
    "            if matrix[i][j] == 0:\n",
    "                print(i,j)\n",
    "                process(i,j)\n",
    "                processedColumns[j] = True\n",
    "                processedRows[i] = True\n",
    "\n",
    "            if matrix[i][j]!= 0 and (j in processedColumns.keys()) or (i in processedRows.keys()):\n",
    "                matrix[i][j] = 0\n",
    "    return matrix"
   ]
  },
  {
   "cell_type": "code",
   "execution_count": 69,
   "id": "published-earthquake",
   "metadata": {},
   "outputs": [],
   "source": [
    "#test cases\n",
    "test1 = [[1,1,1],[1,0,1],[1,1,1]]\n",
    "test2 = [[0,1,2,0],[3,4,5,2],[1,3,1,5]]\n",
    "answer1 = [[1,0,1],[0,0,0],[1,0,1]]\n",
    "answer2 = [[0,0,0,0],[0,4,5,0],[0,3,1,0]]"
   ]
  },
  {
   "cell_type": "code",
   "execution_count": 70,
   "id": "authentic-aluminum",
   "metadata": {},
   "outputs": [
    {
     "name": "stdout",
     "output_type": "stream",
     "text": [
      "1 1\n",
      "inside process 0 1\n",
      "inside process 1 0\n",
      "0 0\n",
      "0 3\n",
      "inside process 0 0\n",
      "inside process 0 1\n",
      "inside process 0 2\n"
     ]
    },
    {
     "data": {
      "text/plain": [
       "True"
      ]
     },
     "execution_count": 70,
     "metadata": {},
     "output_type": "execute_result"
    }
   ],
   "source": [
    "zeroMat(test1) == answer1 and zeroMat(test2) == answer2"
   ]
  },
  {
   "cell_type": "code",
   "execution_count": null,
   "id": "endless-distance",
   "metadata": {},
   "outputs": [],
   "source": []
  }
 ],
 "metadata": {
  "kernelspec": {
   "display_name": "Python 3",
   "language": "python",
   "name": "python3"
  },
  "language_info": {
   "codemirror_mode": {
    "name": "ipython",
    "version": 3
   },
   "file_extension": ".py",
   "mimetype": "text/x-python",
   "name": "python",
   "nbconvert_exporter": "python",
   "pygments_lexer": "ipython3",
   "version": "3.7.3"
  }
 },
 "nbformat": 4,
 "nbformat_minor": 5
}
