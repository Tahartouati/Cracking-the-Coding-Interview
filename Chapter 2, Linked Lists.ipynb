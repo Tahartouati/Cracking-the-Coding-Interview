{
 "cells": [
  {
   "cell_type": "markdown",
   "id": "beneficial-mobility",
   "metadata": {},
   "source": [
    "### Implementing Linked List DS"
   ]
  },
  {
   "cell_type": "code",
   "execution_count": 9,
   "id": "gorgeous-witness",
   "metadata": {},
   "outputs": [],
   "source": [
    "# Definition for singly-linked list.\n",
    "class ListNode:\n",
    "    def __init__(self, x):\n",
    "        self.val = x\n",
    "        self.next = None\n",
    "    def printLL(self):\n",
    "        temp = self\n",
    "        \n",
    "        while temp != None:\n",
    "            print(temp.val)\n",
    "            temp = temp.next\n",
    "        "
   ]
  },
  {
   "cell_type": "markdown",
   "id": "metric-valentine",
   "metadata": {},
   "source": [
    "### 2.1"
   ]
  },
  {
   "cell_type": "code",
   "execution_count": 25,
   "id": "smooth-cookbook",
   "metadata": {},
   "outputs": [],
   "source": [
    "a = ListNode(1)\n",
    "b = ListNode(2)\n",
    "c = ListNode(3)\n",
    "d = ListNode(4)\n",
    "e = ListNode(3)\n",
    "f = ListNode(3)\n",
    "a.next = b\n",
    "b.next = c\n",
    "c.next = d\n",
    "d.next = e\n",
    "e.next = f"
   ]
  },
  {
   "cell_type": "code",
   "execution_count": 26,
   "id": "amazing-blast",
   "metadata": {},
   "outputs": [],
   "source": [
    "# removeDups v1\n",
    "def removeDups(head):\n",
    "    \n",
    "    ListNode.printLL(head)\n",
    "    temp = head\n",
    "    count = {}\n",
    "\n",
    "    while temp:\n",
    "        if temp.val in count.keys():\n",
    "            count[temp.val] += 1\n",
    "        else:\n",
    "            count[temp.val] = 1\n",
    "        temp = temp.next\n",
    "\n",
    "    temp = head\n",
    "\n",
    "    sentinel = ListNode(0)\n",
    "    sentinel.next = head\n",
    "    prev = sentinel\n",
    "    curr = head\n",
    "    while curr:\n",
    "        if count[curr.val] > 1:\n",
    "            prev.next = curr.next\n",
    "        else:\n",
    "            prev = prev.next\n",
    "        curr = curr.next\n",
    "    \n",
    "    print('____________')\n",
    "    ListNode.printLL(sentinel.next)\n",
    "    \n",
    "\n",
    "\n",
    "    return sentinel.next    \n",
    "        \n",
    "        \n",
    "    "
   ]
  },
  {
   "cell_type": "code",
   "execution_count": 27,
   "id": "third-granny",
   "metadata": {},
   "outputs": [
    {
     "name": "stdout",
     "output_type": "stream",
     "text": [
      "1\n",
      "2\n",
      "3\n",
      "4\n",
      "3\n",
      "3\n",
      "____________\n",
      "1\n",
      "2\n",
      "4\n"
     ]
    }
   ],
   "source": [
    "result = removeDups(a)"
   ]
  },
  {
   "cell_type": "code",
   "execution_count": 42,
   "id": "attached-ministry",
   "metadata": {},
   "outputs": [],
   "source": [
    "a = ListNode(1)\n",
    "b = ListNode(1)\n",
    "c = ListNode(1)\n",
    "d = ListNode(1)\n",
    "e = ListNode(1)\n",
    "f = ListNode(6)\n",
    "g = ListNode(7)\n",
    "h = ListNode(7)\n",
    "i = ListNode(7)\n",
    "a.next = b\n",
    "b.next = c\n",
    "c.next = d\n",
    "d.next = e\n",
    "e.next = f\n",
    "f.next = g\n",
    "g.next = h\n",
    "h.next = i"
   ]
  },
  {
   "cell_type": "code",
   "execution_count": 29,
   "id": "danish-failing",
   "metadata": {},
   "outputs": [
    {
     "name": "stdout",
     "output_type": "stream",
     "text": [
      "1\n",
      "1\n",
      "1\n",
      "1\n",
      "1\n",
      "6\n",
      "7\n",
      "7\n",
      "7\n",
      "____________\n",
      "6\n"
     ]
    },
    {
     "data": {
      "text/plain": [
       "<__main__.ListNode at 0x1046f6ef0>"
      ]
     },
     "execution_count": 29,
     "metadata": {},
     "output_type": "execute_result"
    }
   ],
   "source": [
    "removeDups(a)"
   ]
  },
  {
   "cell_type": "markdown",
   "id": "light-roads",
   "metadata": {},
   "source": [
    "### 2.2"
   ]
  },
  {
   "cell_type": "code",
   "execution_count": 39,
   "id": "welsh-announcement",
   "metadata": {},
   "outputs": [],
   "source": [
    "# find Kth Element to last V1\n",
    "def findKFromEnd(head,k):\n",
    "    \n",
    "    arr = []\n",
    "    temp = head\n",
    "    \n",
    "    while temp:\n",
    "        arr.append(temp.val)\n",
    "        temp = temp.next\n",
    "    \n",
    "    if k > len(arr):\n",
    "        return 'not found'\n",
    "    return arr[-k]\n",
    "    \n",
    "    \n",
    "    \n",
    "\n",
    "    \n",
    "    "
   ]
  },
  {
   "cell_type": "code",
   "execution_count": 43,
   "id": "precise-access",
   "metadata": {},
   "outputs": [],
   "source": [
    "a = ListNode(1)\n",
    "b = ListNode(2)\n",
    "c = ListNode(3)\n",
    "d = ListNode(11)\n",
    "e = ListNode(111)\n",
    "f = ListNode(66)\n",
    "g = ListNode(77)\n",
    "h = ListNode(97)\n",
    "i = ListNode(71)\n",
    "a.next = b\n",
    "b.next = c\n",
    "c.next = d\n",
    "d.next = e\n",
    "e.next = f\n",
    "f.next = g\n",
    "g.next = h\n",
    "h.next = i"
   ]
  },
  {
   "cell_type": "code",
   "execution_count": 44,
   "id": "biological-summit",
   "metadata": {},
   "outputs": [
    {
     "data": {
      "text/plain": [
       "97"
      ]
     },
     "execution_count": 44,
     "metadata": {},
     "output_type": "execute_result"
    }
   ],
   "source": [
    "findKFromEnd(a,2)"
   ]
  },
  {
   "cell_type": "code",
   "execution_count": 45,
   "id": "electric-butter",
   "metadata": {},
   "outputs": [],
   "source": [
    "a = ListNode(1)"
   ]
  },
  {
   "cell_type": "code",
   "execution_count": 46,
   "id": "acceptable-container",
   "metadata": {},
   "outputs": [
    {
     "data": {
      "text/plain": [
       "'not found'"
      ]
     },
     "execution_count": 46,
     "metadata": {},
     "output_type": "execute_result"
    }
   ],
   "source": [
    "findKFromEnd(a,2)"
   ]
  },
  {
   "cell_type": "markdown",
   "id": "published-architect",
   "metadata": {},
   "source": [
    "### 2.3"
   ]
  },
  {
   "cell_type": "code",
   "execution_count": 69,
   "id": "sharing-thread",
   "metadata": {},
   "outputs": [],
   "source": [
    "# deleteMiddleNode V1\n",
    "def deleteMiddleNode(head):\n",
    "    ListNode.printLL(head)\n",
    "    sentinel = ListNode(0)\n",
    "    sentinel.next = head\n",
    "    p1 = head\n",
    "    p2 = head\n",
    "    \n",
    "    while p2.next:\n",
    "        p2 = p2.next.next\n",
    "        p1 = p1.next\n",
    "        if p2 == None:\n",
    "            break\n",
    "    \n",
    "    \n",
    "\n",
    "    p1.val = p1.next.val\n",
    "    p1.next = p1.next.next\n",
    "    \n",
    "        \n",
    "    print('_______________')\n",
    "    ListNode.printLL(sentinel.next)"
   ]
  },
  {
   "cell_type": "code",
   "execution_count": 70,
   "id": "hidden-expression",
   "metadata": {},
   "outputs": [],
   "source": [
    "a = ListNode(1)\n",
    "b = ListNode(2)\n",
    "c = ListNode(3)\n",
    "d = ListNode(11)\n",
    "e = ListNode(111)\n",
    "f = ListNode(66)\n",
    "g = ListNode(77)\n",
    "h = ListNode(97)\n",
    "i = ListNode(71)\n",
    "a.next = b\n",
    "b.next = c\n",
    "c.next = d\n",
    "d.next = e\n",
    "e.next = f\n",
    "f.next = g\n",
    "g.next = h\n",
    "h.next = i"
   ]
  },
  {
   "cell_type": "code",
   "execution_count": 71,
   "id": "touched-ethiopia",
   "metadata": {},
   "outputs": [
    {
     "name": "stdout",
     "output_type": "stream",
     "text": [
      "1\n",
      "2\n",
      "3\n",
      "11\n",
      "111\n",
      "66\n",
      "77\n",
      "97\n",
      "71\n",
      "_______________\n",
      "1\n",
      "2\n",
      "3\n",
      "11\n",
      "66\n",
      "77\n",
      "97\n",
      "71\n"
     ]
    }
   ],
   "source": [
    "deleteMiddleNode(a)"
   ]
  },
  {
   "cell_type": "code",
   "execution_count": 74,
   "id": "chubby-minnesota",
   "metadata": {},
   "outputs": [],
   "source": [
    "a = ListNode(1)\n",
    "b = ListNode(2)\n",
    "c = ListNode(3)\n",
    "a.next = b\n",
    "b.next = c"
   ]
  },
  {
   "cell_type": "code",
   "execution_count": 75,
   "id": "going-currency",
   "metadata": {},
   "outputs": [
    {
     "name": "stdout",
     "output_type": "stream",
     "text": [
      "1\n",
      "2\n",
      "3\n",
      "_______________\n",
      "1\n",
      "3\n"
     ]
    }
   ],
   "source": [
    "deleteMiddleNode(a)"
   ]
  },
  {
   "cell_type": "code",
   "execution_count": 77,
   "id": "impossible-county",
   "metadata": {},
   "outputs": [],
   "source": [
    "a = ListNode(1)\n",
    "b = ListNode(2)\n",
    "c = ListNode(3)\n",
    "d = ListNode(11)\n",
    "e = ListNode(111)\n",
    "f = ListNode(66)\n",
    "\n",
    "a.next = b\n",
    "b.next = c\n",
    "c.next = d\n",
    "d.next = e\n",
    "e.next = f"
   ]
  },
  {
   "cell_type": "code",
   "execution_count": 78,
   "id": "french-groove",
   "metadata": {},
   "outputs": [
    {
     "name": "stdout",
     "output_type": "stream",
     "text": [
      "1\n",
      "2\n",
      "3\n",
      "11\n",
      "111\n",
      "66\n",
      "_______________\n",
      "1\n",
      "2\n",
      "3\n",
      "111\n",
      "66\n"
     ]
    }
   ],
   "source": [
    "deleteMiddleNode(a)"
   ]
  },
  {
   "cell_type": "code",
   "execution_count": null,
   "id": "external-expert",
   "metadata": {},
   "outputs": [],
   "source": []
  }
 ],
 "metadata": {
  "kernelspec": {
   "display_name": "Python 3",
   "language": "python",
   "name": "python3"
  },
  "language_info": {
   "codemirror_mode": {
    "name": "ipython",
    "version": 3
   },
   "file_extension": ".py",
   "mimetype": "text/x-python",
   "name": "python",
   "nbconvert_exporter": "python",
   "pygments_lexer": "ipython3",
   "version": "3.7.3"
  }
 },
 "nbformat": 4,
 "nbformat_minor": 5
}
