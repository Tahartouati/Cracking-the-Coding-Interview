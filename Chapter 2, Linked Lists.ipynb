{
 "cells": [
  {
   "cell_type": "markdown",
   "id": "local-ideal",
   "metadata": {},
   "source": [
    "### Implementing Linked List DS"
   ]
  },
  {
   "cell_type": "code",
   "execution_count": 9,
   "id": "structured-belly",
   "metadata": {},
   "outputs": [],
   "source": [
    "# Definition for singly-linked list.\n",
    "class ListNode:\n",
    "    def __init__(self, x):\n",
    "        self.val = x\n",
    "        self.next = None\n",
    "    def printLL(self):\n",
    "        temp = self\n",
    "        \n",
    "        while temp != None:\n",
    "            print(temp.val)\n",
    "            temp = temp.next\n",
    "        "
   ]
  },
  {
   "cell_type": "markdown",
   "id": "palestinian-general",
   "metadata": {},
   "source": [
    "### 2.1"
   ]
  },
  {
   "cell_type": "code",
   "execution_count": 25,
   "id": "foster-uncertainty",
   "metadata": {},
   "outputs": [],
   "source": [
    "a = ListNode(1)\n",
    "b = ListNode(2)\n",
    "c = ListNode(3)\n",
    "d = ListNode(4)\n",
    "e = ListNode(3)\n",
    "f = ListNode(3)\n",
    "a.next = b\n",
    "b.next = c\n",
    "c.next = d\n",
    "d.next = e\n",
    "e.next = f"
   ]
  },
  {
   "cell_type": "code",
   "execution_count": 26,
   "id": "consecutive-advice",
   "metadata": {},
   "outputs": [],
   "source": [
    "# removeDups v1\n",
    "def removeDups(head):\n",
    "    \n",
    "    ListNode.printLL(head)\n",
    "    temp = head\n",
    "    count = {}\n",
    "\n",
    "    while temp:\n",
    "        if temp.val in count.keys():\n",
    "            count[temp.val] += 1\n",
    "        else:\n",
    "            count[temp.val] = 1\n",
    "        temp = temp.next\n",
    "\n",
    "    temp = head\n",
    "\n",
    "    sentinel = ListNode(0)\n",
    "    sentinel.next = head\n",
    "    prev = sentinel\n",
    "    curr = head\n",
    "    while curr:\n",
    "        if count[curr.val] > 1:\n",
    "            prev.next = curr.next\n",
    "        else:\n",
    "            prev = prev.next\n",
    "        curr = curr.next\n",
    "    \n",
    "    print('____________')\n",
    "    ListNode.printLL(sentinel.next)\n",
    "    \n",
    "\n",
    "\n",
    "    return sentinel.next    \n",
    "        \n",
    "        \n",
    "    "
   ]
  },
  {
   "cell_type": "code",
   "execution_count": 27,
   "id": "federal-feeling",
   "metadata": {},
   "outputs": [
    {
     "name": "stdout",
     "output_type": "stream",
     "text": [
      "1\n",
      "2\n",
      "3\n",
      "4\n",
      "3\n",
      "3\n",
      "____________\n",
      "1\n",
      "2\n",
      "4\n"
     ]
    }
   ],
   "source": [
    "result = removeDups(a)"
   ]
  },
  {
   "cell_type": "code",
   "execution_count": 28,
   "id": "rural-olive",
   "metadata": {},
   "outputs": [],
   "source": [
    "a = ListNode(1)\n",
    "b = ListNode(1)\n",
    "c = ListNode(1)\n",
    "d = ListNode(1)\n",
    "e = ListNode(1)\n",
    "f = ListNode(6)\n",
    "g = ListNode(7)\n",
    "h = ListNode(7)\n",
    "i = ListNode(7)\n",
    "a.next = b\n",
    "b.next = c\n",
    "c.next = d\n",
    "d.next = e\n",
    "e.next = f\n",
    "f.next = g\n",
    "g.next = h\n",
    "h.next = i"
   ]
  },
  {
   "cell_type": "code",
   "execution_count": 29,
   "id": "incomplete-chest",
   "metadata": {},
   "outputs": [
    {
     "name": "stdout",
     "output_type": "stream",
     "text": [
      "1\n",
      "1\n",
      "1\n",
      "1\n",
      "1\n",
      "6\n",
      "7\n",
      "7\n",
      "7\n",
      "____________\n",
      "6\n"
     ]
    },
    {
     "data": {
      "text/plain": [
       "<__main__.ListNode at 0x1046f6ef0>"
      ]
     },
     "execution_count": 29,
     "metadata": {},
     "output_type": "execute_result"
    }
   ],
   "source": [
    "removeDups(a)"
   ]
  },
  {
   "cell_type": "markdown",
   "id": "unauthorized-identification",
   "metadata": {},
   "source": [
    "### 2.2"
   ]
  },
  {
   "cell_type": "code",
   "execution_count": 30,
   "id": "welcome-overhead",
   "metadata": {},
   "outputs": [],
   "source": [
    "# find Kth Element to last V1\n",
    "def findK(head,k):\n",
    "    arr = []\n",
    "    \n",
    "    temp = head\n",
    "    \n",
    "    while temp:\n",
    "        arr.append(temp.val)\n",
    "        temp = temp.next\n",
    "    \n",
    "    \n",
    "    return arr[-k]\n",
    "    \n",
    "    \n",
    "    \n",
    "    \n",
    "    \n",
    "    \n",
    "    "
   ]
  },
  {
   "cell_type": "code",
   "execution_count": null,
   "id": "unsigned-laugh",
   "metadata": {},
   "outputs": [],
   "source": []
  }
 ],
 "metadata": {
  "kernelspec": {
   "display_name": "Python 3",
   "language": "python",
   "name": "python3"
  },
  "language_info": {
   "codemirror_mode": {
    "name": "ipython",
    "version": 3
   },
   "file_extension": ".py",
   "mimetype": "text/x-python",
   "name": "python",
   "nbconvert_exporter": "python",
   "pygments_lexer": "ipython3",
   "version": "3.7.3"
  }
 },
 "nbformat": 4,
 "nbformat_minor": 5
}
