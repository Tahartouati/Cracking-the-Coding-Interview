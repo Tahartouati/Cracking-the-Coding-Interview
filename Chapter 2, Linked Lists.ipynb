{
 "cells": [
  {
   "cell_type": "markdown",
   "id": "marked-likelihood",
   "metadata": {},
   "source": [
    "### Implementing Linked List DS"
   ]
  },
  {
   "cell_type": "code",
   "execution_count": 223,
   "id": "supposed-bangladesh",
   "metadata": {},
   "outputs": [],
   "source": [
    "# Definition for singly-linked list.\n",
    "class ListNode:\n",
    "    def __init__(self, x):\n",
    "        self.val = x\n",
    "        self.next = None\n",
    "    def printLL(self):\n",
    "        temp = self\n",
    "        \n",
    "        while temp != None:\n",
    "            print(temp.val)\n",
    "            temp = temp.next\n",
    "        "
   ]
  },
  {
   "cell_type": "markdown",
   "id": "alien-trader",
   "metadata": {},
   "source": [
    "### 2.1"
   ]
  },
  {
   "cell_type": "code",
   "execution_count": 25,
   "id": "published-anthony",
   "metadata": {},
   "outputs": [],
   "source": [
    "a = ListNode(1)\n",
    "b = ListNode(2)\n",
    "c = ListNode(3)\n",
    "d = ListNode(4)\n",
    "e = ListNode(3)\n",
    "f = ListNode(3)\n",
    "a.next = b\n",
    "b.next = c\n",
    "c.next = d\n",
    "d.next = e\n",
    "e.next = f"
   ]
  },
  {
   "cell_type": "code",
   "execution_count": 26,
   "id": "falling-blogger",
   "metadata": {},
   "outputs": [],
   "source": [
    "# removeDups v1\n",
    "def removeDups(head):\n",
    "    \n",
    "    ListNode.printLL(head)\n",
    "    temp = head\n",
    "    count = {}\n",
    "\n",
    "    while temp:\n",
    "        if temp.val in count.keys():\n",
    "            count[temp.val] += 1\n",
    "        else:\n",
    "            count[temp.val] = 1\n",
    "        temp = temp.next\n",
    "\n",
    "    temp = head\n",
    "\n",
    "    sentinel = ListNode(0)\n",
    "    sentinel.next = head\n",
    "    prev = sentinel\n",
    "    curr = head\n",
    "    while curr:\n",
    "        if count[curr.val] > 1:\n",
    "            prev.next = curr.next\n",
    "        else:\n",
    "            prev = prev.next\n",
    "        curr = curr.next\n",
    "    \n",
    "    print('____________')\n",
    "    ListNode.printLL(sentinel.next)\n",
    "    \n",
    "\n",
    "\n",
    "    return sentinel.next    \n",
    "        \n",
    "        \n",
    "    "
   ]
  },
  {
   "cell_type": "code",
   "execution_count": 27,
   "id": "upper-pioneer",
   "metadata": {},
   "outputs": [
    {
     "name": "stdout",
     "output_type": "stream",
     "text": [
      "1\n",
      "2\n",
      "3\n",
      "4\n",
      "3\n",
      "3\n",
      "____________\n",
      "1\n",
      "2\n",
      "4\n"
     ]
    }
   ],
   "source": [
    "result = removeDups(a)"
   ]
  },
  {
   "cell_type": "code",
   "execution_count": 42,
   "id": "uniform-price",
   "metadata": {},
   "outputs": [],
   "source": [
    "a = ListNode(1)\n",
    "b = ListNode(1)\n",
    "c = ListNode(1)\n",
    "d = ListNode(1)\n",
    "e = ListNode(1)\n",
    "f = ListNode(6)\n",
    "g = ListNode(7)\n",
    "h = ListNode(7)\n",
    "i = ListNode(7)\n",
    "a.next = b\n",
    "b.next = c\n",
    "c.next = d\n",
    "d.next = e\n",
    "e.next = f\n",
    "f.next = g\n",
    "g.next = h\n",
    "h.next = i"
   ]
  },
  {
   "cell_type": "code",
   "execution_count": 29,
   "id": "celtic-driver",
   "metadata": {},
   "outputs": [
    {
     "name": "stdout",
     "output_type": "stream",
     "text": [
      "1\n",
      "1\n",
      "1\n",
      "1\n",
      "1\n",
      "6\n",
      "7\n",
      "7\n",
      "7\n",
      "____________\n",
      "6\n"
     ]
    },
    {
     "data": {
      "text/plain": [
       "<__main__.ListNode at 0x1046f6ef0>"
      ]
     },
     "execution_count": 29,
     "metadata": {},
     "output_type": "execute_result"
    }
   ],
   "source": [
    "removeDups(a)"
   ]
  },
  {
   "cell_type": "markdown",
   "id": "manual-intranet",
   "metadata": {},
   "source": [
    "### 2.2"
   ]
  },
  {
   "cell_type": "code",
   "execution_count": 39,
   "id": "substantial-mystery",
   "metadata": {},
   "outputs": [],
   "source": [
    "# find Kth Element to last V1\n",
    "def findKFromEnd(head,k):\n",
    "    \n",
    "    arr = []\n",
    "    temp = head\n",
    "    \n",
    "    while temp:\n",
    "        arr.append(temp.val)\n",
    "        temp = temp.next\n",
    "    \n",
    "    if k > len(arr):\n",
    "        return 'not found'\n",
    "    return arr[-k]\n",
    "    \n",
    "    \n",
    "    \n",
    "\n",
    "    \n",
    "    "
   ]
  },
  {
   "cell_type": "code",
   "execution_count": 43,
   "id": "located-width",
   "metadata": {},
   "outputs": [],
   "source": [
    "a = ListNode(1)\n",
    "b = ListNode(2)\n",
    "c = ListNode(3)\n",
    "d = ListNode(11)\n",
    "e = ListNode(111)\n",
    "f = ListNode(66)\n",
    "g = ListNode(77)\n",
    "h = ListNode(97)\n",
    "i = ListNode(71)\n",
    "a.next = b\n",
    "b.next = c\n",
    "c.next = d\n",
    "d.next = e\n",
    "e.next = f\n",
    "f.next = g\n",
    "g.next = h\n",
    "h.next = i"
   ]
  },
  {
   "cell_type": "code",
   "execution_count": 44,
   "id": "precious-engine",
   "metadata": {},
   "outputs": [
    {
     "data": {
      "text/plain": [
       "97"
      ]
     },
     "execution_count": 44,
     "metadata": {},
     "output_type": "execute_result"
    }
   ],
   "source": [
    "findKFromEnd(a,2)"
   ]
  },
  {
   "cell_type": "code",
   "execution_count": 45,
   "id": "minimal-business",
   "metadata": {},
   "outputs": [],
   "source": [
    "a = ListNode(1)"
   ]
  },
  {
   "cell_type": "code",
   "execution_count": 46,
   "id": "bizarre-suicide",
   "metadata": {},
   "outputs": [
    {
     "data": {
      "text/plain": [
       "'not found'"
      ]
     },
     "execution_count": 46,
     "metadata": {},
     "output_type": "execute_result"
    }
   ],
   "source": [
    "findKFromEnd(a,2)"
   ]
  },
  {
   "cell_type": "markdown",
   "id": "ongoing-studio",
   "metadata": {},
   "source": [
    "### 2.3"
   ]
  },
  {
   "cell_type": "code",
   "execution_count": 69,
   "id": "urban-mitchell",
   "metadata": {},
   "outputs": [],
   "source": [
    "# deleteMiddleNode V1\n",
    "def deleteMiddleNode(head):\n",
    "    ListNode.printLL(head)\n",
    "    sentinel = ListNode(0)\n",
    "    sentinel.next = head\n",
    "    p1 = head\n",
    "    p2 = head\n",
    "    \n",
    "    while p2.next:\n",
    "        p2 = p2.next.next\n",
    "        p1 = p1.next\n",
    "        if p2 == None:\n",
    "            break\n",
    "    \n",
    "    \n",
    "\n",
    "    p1.val = p1.next.val\n",
    "    p1.next = p1.next.next\n",
    "    \n",
    "        \n",
    "    print('_______________')\n",
    "    ListNode.printLL(sentinel.next)"
   ]
  },
  {
   "cell_type": "code",
   "execution_count": 70,
   "id": "southern-basketball",
   "metadata": {},
   "outputs": [],
   "source": [
    "a = ListNode(1)\n",
    "b = ListNode(2)\n",
    "c = ListNode(3)\n",
    "d = ListNode(11)\n",
    "e = ListNode(111)\n",
    "f = ListNode(66)\n",
    "g = ListNode(77)\n",
    "h = ListNode(97)\n",
    "i = ListNode(71)\n",
    "a.next = b\n",
    "b.next = c\n",
    "c.next = d\n",
    "d.next = e\n",
    "e.next = f\n",
    "f.next = g\n",
    "g.next = h\n",
    "h.next = i"
   ]
  },
  {
   "cell_type": "code",
   "execution_count": 71,
   "id": "irish-jacob",
   "metadata": {},
   "outputs": [
    {
     "name": "stdout",
     "output_type": "stream",
     "text": [
      "1\n",
      "2\n",
      "3\n",
      "11\n",
      "111\n",
      "66\n",
      "77\n",
      "97\n",
      "71\n",
      "_______________\n",
      "1\n",
      "2\n",
      "3\n",
      "11\n",
      "66\n",
      "77\n",
      "97\n",
      "71\n"
     ]
    }
   ],
   "source": [
    "deleteMiddleNode(a)"
   ]
  },
  {
   "cell_type": "code",
   "execution_count": 74,
   "id": "advised-clerk",
   "metadata": {},
   "outputs": [],
   "source": [
    "a = ListNode(1)\n",
    "b = ListNode(2)\n",
    "c = ListNode(3)\n",
    "a.next = b\n",
    "b.next = c"
   ]
  },
  {
   "cell_type": "code",
   "execution_count": 75,
   "id": "flush-coordinator",
   "metadata": {},
   "outputs": [
    {
     "name": "stdout",
     "output_type": "stream",
     "text": [
      "1\n",
      "2\n",
      "3\n",
      "_______________\n",
      "1\n",
      "3\n"
     ]
    }
   ],
   "source": [
    "deleteMiddleNode(a)"
   ]
  },
  {
   "cell_type": "code",
   "execution_count": 77,
   "id": "introductory-tribune",
   "metadata": {},
   "outputs": [],
   "source": [
    "a = ListNode(1)\n",
    "b = ListNode(2)\n",
    "c = ListNode(3)\n",
    "d = ListNode(11)\n",
    "e = ListNode(111)\n",
    "f = ListNode(66)\n",
    "\n",
    "a.next = b\n",
    "b.next = c\n",
    "c.next = d\n",
    "d.next = e\n",
    "e.next = f"
   ]
  },
  {
   "cell_type": "code",
   "execution_count": 78,
   "id": "governmental-tractor",
   "metadata": {},
   "outputs": [
    {
     "name": "stdout",
     "output_type": "stream",
     "text": [
      "1\n",
      "2\n",
      "3\n",
      "11\n",
      "111\n",
      "66\n",
      "_______________\n",
      "1\n",
      "2\n",
      "3\n",
      "111\n",
      "66\n"
     ]
    }
   ],
   "source": [
    "deleteMiddleNode(a)"
   ]
  },
  {
   "cell_type": "markdown",
   "id": "sorted-package",
   "metadata": {},
   "source": [
    "#### Learned outcomes until now:\n",
    "Always create a sentinel. It will allow you to process the linkedList without losing track of the head\n",
    "deleting a specific node is done by assigning the value of the next node to the curr node, and the next of the curr node to the curr.next.next\n"
   ]
  },
  {
   "cell_type": "markdown",
   "id": "nominated-peeing",
   "metadata": {},
   "source": [
    "### 2.4"
   ]
  },
  {
   "cell_type": "code",
   "execution_count": 127,
   "id": "cathedral-practice",
   "metadata": {},
   "outputs": [
    {
     "name": "stdout",
     "output_type": "stream",
     "text": [
      "9\n",
      "8\n",
      "7\n",
      "6\n",
      "5\n",
      "4\n",
      "3\n",
      "2\n",
      "1\n"
     ]
    }
   ],
   "source": [
    "ListNode.printLL(a)"
   ]
  },
  {
   "cell_type": "code",
   "execution_count": 206,
   "id": "favorite-homework",
   "metadata": {},
   "outputs": [],
   "source": [
    "# partition linkedin list:\n",
    "def partitionLL(head,val):\n",
    "    \n",
    "    sentinel = ListNode(0)\n",
    "    sentinel.next = head\n",
    "    \n",
    "    #find the last node:\n",
    "    last = head\n",
    "    count = 1\n",
    "    while last.next:\n",
    "        last = last.next\n",
    "        count += 1\n",
    "\n",
    "    node = head\n",
    "    visited = {}\n",
    "    \n",
    "    \n",
    "    while node and node.val >= val and node.val not in visited.keys():\n",
    "        visited[node.val] = True\n",
    "        last.next = node\n",
    "        temp = node.next\n",
    "        node.next = None\n",
    "        last = node\n",
    "        node = temp\n",
    "        print('inside second while loop',node.val)\n",
    "    \n",
    "    if node.val >= val:\n",
    "        print('______Results______')\n",
    "        print('the linked list will not change because all values >= val')\n",
    "        ListNode.printLL(head)\n",
    "        return\n",
    "    print('outside the second loop',node.val)\n",
    "    head = prev = node\n",
    "    node = node.next\n",
    "    \n",
    "    \n",
    "    ListNode.printLL(head)\n",
    "    \n",
    "    visited = {}\n",
    "    while node and node.val not in visited.keys():\n",
    "        visited[node.val] = True\n",
    "        if node.val >= val:\n",
    "            last.next = node\n",
    "            prev.next = node.next\n",
    "            node.next = None\n",
    "            node = prev.next\n",
    "            last = last.next\n",
    "        \n",
    "        else:\n",
    "            temp = node.next\n",
    "            node.next = head\n",
    "            head = node\n",
    "            prev.next = temp\n",
    "            node = temp\n",
    "    \n",
    "    \n",
    "    print('______Results______')\n",
    "    ListNode.printLL(head)\n",
    "            \n",
    "    \n",
    "    "
   ]
  },
  {
   "cell_type": "code",
   "execution_count": 207,
   "id": "victorian-superintendent",
   "metadata": {},
   "outputs": [],
   "source": [
    "a = ListNode(1)\n",
    "b = ListNode(10)\n",
    "c = ListNode(2)\n",
    "d = ListNode(9)\n",
    "e = ListNode(3)\n",
    "f = ListNode(8)\n",
    "g = ListNode(4)\n",
    "h = ListNode(7)\n",
    "i = ListNode(5)\n",
    "a.next = b\n",
    "b.next = c\n",
    "c.next = d\n",
    "d.next = e\n",
    "e.next = f\n",
    "f.next = g\n",
    "g.next = h\n",
    "h.next = i"
   ]
  },
  {
   "cell_type": "code",
   "execution_count": 208,
   "id": "architectural-desert",
   "metadata": {},
   "outputs": [
    {
     "name": "stdout",
     "output_type": "stream",
     "text": [
      "1\n",
      "10\n",
      "2\n",
      "9\n",
      "3\n",
      "8\n",
      "4\n",
      "7\n",
      "5\n"
     ]
    }
   ],
   "source": [
    "ListNode.printLL(a)"
   ]
  },
  {
   "cell_type": "code",
   "execution_count": 209,
   "id": "compact-tournament",
   "metadata": {},
   "outputs": [
    {
     "data": {
      "text/plain": [
       "True"
      ]
     },
     "execution_count": 209,
     "metadata": {},
     "output_type": "execute_result"
    }
   ],
   "source": [
    "b.val >= 5"
   ]
  },
  {
   "cell_type": "code",
   "execution_count": 210,
   "id": "colored-karaoke",
   "metadata": {},
   "outputs": [
    {
     "name": "stdout",
     "output_type": "stream",
     "text": [
      "outside the second loop 1\n",
      "1\n",
      "10\n",
      "2\n",
      "9\n",
      "3\n",
      "8\n",
      "4\n",
      "7\n",
      "5\n",
      "______Results______\n",
      "4\n",
      "3\n",
      "2\n",
      "1\n",
      "10\n",
      "9\n",
      "8\n",
      "7\n",
      "5\n"
     ]
    }
   ],
   "source": [
    "partitionLL(a,5)"
   ]
  },
  {
   "cell_type": "code",
   "execution_count": 211,
   "id": "korean-virus",
   "metadata": {},
   "outputs": [],
   "source": [
    "a = ListNode(1)\n",
    "b = ListNode(10)\n",
    "c = ListNode(2)\n",
    "d = ListNode(9)\n",
    "e = ListNode(3)\n",
    "f = ListNode(8)\n",
    "g = ListNode(5)\n",
    "h = ListNode(5)\n",
    "i = ListNode(5)\n",
    "a.next = b\n",
    "b.next = c\n",
    "c.next = d\n",
    "d.next = e\n",
    "e.next = f\n",
    "f.next = g\n",
    "g.next = h\n",
    "h.next = i"
   ]
  },
  {
   "cell_type": "code",
   "execution_count": 212,
   "id": "convinced-prerequisite",
   "metadata": {},
   "outputs": [
    {
     "name": "stdout",
     "output_type": "stream",
     "text": [
      "outside the second loop 1\n",
      "1\n",
      "10\n",
      "2\n",
      "9\n",
      "3\n",
      "8\n",
      "5\n",
      "5\n",
      "5\n",
      "______Results______\n",
      "3\n",
      "2\n",
      "1\n",
      "5\n",
      "5\n",
      "10\n",
      "9\n",
      "8\n",
      "5\n"
     ]
    }
   ],
   "source": [
    "partitionLL(a,5)"
   ]
  },
  {
   "cell_type": "code",
   "execution_count": 213,
   "id": "mechanical-founder",
   "metadata": {},
   "outputs": [],
   "source": [
    "a = ListNode(9)\n",
    "b = ListNode(8)\n",
    "c = ListNode(7)\n",
    "d = ListNode(6)\n",
    "e = ListNode(5)\n",
    "f = ListNode(4)\n",
    "g = ListNode(3)\n",
    "h = ListNode(2)\n",
    "i = ListNode(1)\n",
    "a.next = b\n",
    "b.next = c\n",
    "c.next = d\n",
    "d.next = e\n",
    "e.next = f\n",
    "f.next = g\n",
    "g.next = h\n",
    "h.next = i"
   ]
  },
  {
   "cell_type": "code",
   "execution_count": 214,
   "id": "brazilian-monte",
   "metadata": {},
   "outputs": [
    {
     "name": "stdout",
     "output_type": "stream",
     "text": [
      "inside second while loop 8\n",
      "inside second while loop 7\n",
      "inside second while loop 6\n",
      "inside second while loop 5\n",
      "inside second while loop 4\n",
      "outside the second loop 4\n",
      "4\n",
      "3\n",
      "2\n",
      "1\n",
      "9\n",
      "8\n",
      "7\n",
      "6\n",
      "5\n",
      "______Results______\n",
      "1\n",
      "2\n",
      "3\n",
      "4\n",
      "9\n",
      "8\n",
      "7\n",
      "6\n",
      "5\n"
     ]
    }
   ],
   "source": [
    "partitionLL(a,5)"
   ]
  },
  {
   "cell_type": "code",
   "execution_count": 215,
   "id": "approximate-institution",
   "metadata": {},
   "outputs": [],
   "source": [
    "a = ListNode(9)\n",
    "b = ListNode(8)\n",
    "c = ListNode(7)\n",
    "d = ListNode(6)\n",
    "e = ListNode(5)\n",
    "f = ListNode(4)\n",
    "g = ListNode(3)\n",
    "h = ListNode(2)\n",
    "i = ListNode(1)\n",
    "a.next = b\n",
    "b.next = c\n",
    "c.next = d\n",
    "d.next = e\n",
    "e.next = f\n",
    "f.next = g\n",
    "g.next = h\n",
    "h.next = i"
   ]
  },
  {
   "cell_type": "code",
   "execution_count": 216,
   "id": "hydraulic-python",
   "metadata": {},
   "outputs": [
    {
     "name": "stdout",
     "output_type": "stream",
     "text": [
      "inside second while loop 8\n",
      "inside second while loop 7\n",
      "inside second while loop 6\n",
      "inside second while loop 5\n",
      "inside second while loop 4\n",
      "inside second while loop 3\n",
      "outside the second loop 3\n",
      "3\n",
      "2\n",
      "1\n",
      "9\n",
      "8\n",
      "7\n",
      "6\n",
      "5\n",
      "4\n",
      "______Results______\n",
      "1\n",
      "2\n",
      "3\n",
      "9\n",
      "8\n",
      "7\n",
      "6\n",
      "5\n",
      "4\n"
     ]
    }
   ],
   "source": [
    "partitionLL(a,4)"
   ]
  },
  {
   "cell_type": "code",
   "execution_count": 217,
   "id": "going-vertex",
   "metadata": {},
   "outputs": [],
   "source": [
    "a = ListNode(9)\n",
    "b = ListNode(8)\n",
    "c = ListNode(7)\n",
    "d = ListNode(6)\n",
    "e = ListNode(5)\n",
    "f = ListNode(4)\n",
    "g = ListNode(3)\n",
    "h = ListNode(2)\n",
    "i = ListNode(1)\n",
    "a.next = b\n",
    "b.next = c\n",
    "c.next = d\n",
    "d.next = e\n",
    "e.next = f\n",
    "f.next = g\n",
    "g.next = h\n",
    "h.next = i"
   ]
  },
  {
   "cell_type": "code",
   "execution_count": 218,
   "id": "dynamic-adventure",
   "metadata": {},
   "outputs": [
    {
     "name": "stdout",
     "output_type": "stream",
     "text": [
      "inside second while loop 8\n",
      "inside second while loop 7\n",
      "inside second while loop 6\n",
      "inside second while loop 5\n",
      "inside second while loop 4\n",
      "inside second while loop 3\n",
      "inside second while loop 2\n",
      "inside second while loop 1\n",
      "inside second while loop 9\n",
      "______Results______\n",
      "the linked list will not change because all values >= val\n",
      "9\n",
      "8\n",
      "7\n",
      "6\n",
      "5\n",
      "4\n",
      "3\n",
      "2\n",
      "1\n"
     ]
    }
   ],
   "source": [
    "partitionLL(a,1)"
   ]
  },
  {
   "cell_type": "markdown",
   "id": "directed-somewhere",
   "metadata": {},
   "source": [
    "### 2.6"
   ]
  },
  {
   "cell_type": "code",
   "execution_count": 310,
   "id": "authentic-consolidation",
   "metadata": {},
   "outputs": [],
   "source": [
    "#sumList v1:\n",
    "def sumList(l1,l2):\n",
    "    \n",
    "    val = l1.val + l2.val\n",
    "    rest = 1 if val > 9 else 0\n",
    "    val = val % 10\n",
    "    ret = ListNode(val)\n",
    "    temp = ret\n",
    "\n",
    "    \n",
    "    if l1.next and l2.next:\n",
    "        temp.next = ListNode(0)\n",
    "        temp = temp.next\n",
    "\n",
    "\n",
    "    l1 = l1.next\n",
    "    l2 = l2.next\n",
    "\n",
    "    \n",
    "    while l1 and l2:\n",
    "        val = l1.val + l2.val + rest\n",
    "        rest = 1 if val > 9 else 0\n",
    "        val = val % 10\n",
    "        temp.val = val\n",
    "        l1 = l1.next\n",
    "        l2 = l2.next\n",
    "        if l1 and l2:\n",
    "            print(l1.val,l2.val)\n",
    "            temp.next = ListNode(0)\n",
    "        else:\n",
    "            break\n",
    "        temp = temp.next\n",
    "\n",
    "    \n",
    "    \n",
    "    if l1 or l2:\n",
    "        print('if l1 or l2')\n",
    "        temp.next = ListNode(0)\n",
    "        temp = temp.next\n",
    "\n",
    "    \n",
    "    \n",
    "    while l1:\n",
    "        print('if l1')\n",
    "        val = rest + l1.val\n",
    "        rest = 1 if val > 9 else 0\n",
    "        temp.val = val%10\n",
    "        l1 = l1.next\n",
    "        if l1:\n",
    "            temp.next = ListNode(0)\n",
    "            temp = temp.next\n",
    "        else:\n",
    "            break\n",
    "\n",
    "    \n",
    "    \n",
    "    while l2:\n",
    "        print('if l2')\n",
    "        val = rest + l2.val\n",
    "        rest = 1 if val > 9 else 0\n",
    "        temp.val = val%10\n",
    "        l2 = l2.next\n",
    "        if l2:\n",
    "            temp.next = ListNode(0)\n",
    "            temp = temp.next\n",
    "        else:\n",
    "            break\n",
    "\n",
    "\n",
    "    if rest > 0:\n",
    "        print('rest',rest)\n",
    "        temp.next = ListNode(rest)\n",
    "    \n",
    "    print('______RESULT______')\n",
    "    ListNode.printLL(ret)\n",
    "    return ret\n",
    "    \n",
    "        \n",
    "    \n",
    "    "
   ]
  },
  {
   "cell_type": "code",
   "execution_count": 311,
   "id": "running-borough",
   "metadata": {},
   "outputs": [],
   "source": [
    "a = ListNode(9)\n",
    "b = ListNode(8)\n",
    "c = ListNode(7)\n",
    "d = ListNode(6)\n",
    "\n",
    "e = ListNode(5)\n",
    "f = ListNode(4)\n",
    "g = ListNode(3)\n",
    "h = ListNode(2)\n",
    "i = ListNode(1)\n",
    "a.next = b\n",
    "b.next = c\n",
    "c.next = d\n",
    "\n",
    "e.next = f\n",
    "f.next = g\n",
    "g.next = h\n",
    "h.next = i"
   ]
  },
  {
   "cell_type": "code",
   "execution_count": 312,
   "id": "composite-gateway",
   "metadata": {},
   "outputs": [
    {
     "name": "stdout",
     "output_type": "stream",
     "text": [
      "9\n",
      "8\n",
      "7\n",
      "6\n",
      "______\n",
      "5\n",
      "4\n",
      "3\n",
      "2\n",
      "1\n"
     ]
    }
   ],
   "source": [
    "ListNode.printLL(a)\n",
    "print('______')\n",
    "ListNode.printLL(e)\n",
    "# 4, 3, 1, 9"
   ]
  },
  {
   "cell_type": "code",
   "execution_count": 313,
   "id": "dramatic-darkness",
   "metadata": {},
   "outputs": [
    {
     "name": "stdout",
     "output_type": "stream",
     "text": [
      "7 3\n",
      "6 2\n",
      "if l1 or l2\n",
      "if l2\n",
      "______RESULT______\n",
      "4\n",
      "3\n",
      "1\n",
      "9\n",
      "1\n"
     ]
    },
    {
     "data": {
      "text/plain": [
       "<__main__.ListNode at 0x10ded3f60>"
      ]
     },
     "execution_count": 313,
     "metadata": {},
     "output_type": "execute_result"
    }
   ],
   "source": [
    "sumList(a,e)"
   ]
  },
  {
   "cell_type": "code",
   "execution_count": null,
   "id": "starting-relations",
   "metadata": {},
   "outputs": [],
   "source": []
  }
 ],
 "metadata": {
  "kernelspec": {
   "display_name": "Python 3",
   "language": "python",
   "name": "python3"
  },
  "language_info": {
   "codemirror_mode": {
    "name": "ipython",
    "version": 3
   },
   "file_extension": ".py",
   "mimetype": "text/x-python",
   "name": "python",
   "nbconvert_exporter": "python",
   "pygments_lexer": "ipython3",
   "version": "3.7.3"
  }
 },
 "nbformat": 4,
 "nbformat_minor": 5
}
