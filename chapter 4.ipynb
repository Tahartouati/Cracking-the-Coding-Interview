{
 "cells": [
  {
   "cell_type": "code",
   "execution_count": 1,
   "id": "advanced-privilege",
   "metadata": {},
   "outputs": [],
   "source": [
    "class Node:\n",
    "    def __init__(self, val = 0, neighbors = None):\n",
    "        self.val = val\n",
    "        self.neighbors = neighbors if neighbors is not None else []"
   ]
  },
  {
   "cell_type": "code",
   "execution_count": 27,
   "id": "documentary-procedure",
   "metadata": {},
   "outputs": [],
   "source": [
    "class BSTNode:\n",
    "    def __init__(self, val = 0, right = None,left = None):\n",
    "        self.val = val\n",
    "        self.right = right\n",
    "        self.left = left"
   ]
  },
  {
   "cell_type": "code",
   "execution_count": 24,
   "id": "detected-attitude",
   "metadata": {},
   "outputs": [],
   "source": [
    "from collections import deque"
   ]
  },
  {
   "cell_type": "markdown",
   "id": "latter-breeding",
   "metadata": {},
   "source": [
    "## 4.1"
   ]
  },
  {
   "cell_type": "code",
   "execution_count": 12,
   "id": "together-papua",
   "metadata": {},
   "outputs": [],
   "source": [
    "def findPath(s,t):\n",
    "    visited = {}\n",
    "    queue = deque()\n",
    "    \n",
    "    queue.append(s)\n",
    "    \n",
    "    \n",
    "    while queue:\n",
    "        node = queue.popleft()\n",
    "        if node in visited.keys():\n",
    "            continue\n",
    "        visited[node] = True\n",
    "        \n",
    "        for neighbor in node.neighbors:\n",
    "            if neighbor == t:\n",
    "                return True\n",
    "            queue.append(neighbor)\n",
    "    return False\n",
    "    "
   ]
  },
  {
   "cell_type": "code",
   "execution_count": 21,
   "id": "protecting-gravity",
   "metadata": {},
   "outputs": [],
   "source": [
    "a = Node('a')\n",
    "b = Node('b')\n",
    "c = Node('c')\n",
    "d = Node('d')\n",
    "e = Node('e')\n",
    "f = Node('f')\n",
    "g = Node('g')\n",
    "h = Node('h')\n",
    "a.neighbors = [e,c,d,b]\n",
    "b.neighbors = [a,c]\n",
    "c.neighbors = [a,b,d]\n",
    "d.neighbors = [a,c,e,h]\n",
    "e.neighbors = [a,d,f]\n",
    "f.neighbors = [e,h]\n",
    "#g.neighbors\n",
    "h.neighbors = [d,f]"
   ]
  },
  {
   "cell_type": "code",
   "execution_count": 23,
   "id": "awful-radius",
   "metadata": {},
   "outputs": [
    {
     "data": {
      "text/plain": [
       "False"
      ]
     },
     "execution_count": 23,
     "metadata": {},
     "output_type": "execute_result"
    }
   ],
   "source": [
    "findPath(a,g)"
   ]
  },
  {
   "cell_type": "code",
   "execution_count": 25,
   "id": "explicit-development",
   "metadata": {},
   "outputs": [
    {
     "data": {
      "text/plain": [
       "True"
      ]
     },
     "execution_count": 25,
     "metadata": {},
     "output_type": "execute_result"
    }
   ],
   "source": [
    "findPath(a,h)"
   ]
  },
  {
   "cell_type": "markdown",
   "id": "modified-suspect",
   "metadata": {},
   "source": [
    "## 4.2"
   ]
  },
  {
   "cell_type": "code",
   "execution_count": 47,
   "id": "owned-fabric",
   "metadata": {},
   "outputs": [],
   "source": [
    "def buildBST(arr):\n",
    "    \n",
    "    if len(arr) == 1:\n",
    "        return BSTNode(arr[0])\n",
    "\n",
    "    \n",
    "    rootIndex = len(arr) // 2\n",
    "    \n",
    "    root = BSTNode(arr[rootIndex])\n",
    "    if len(arr[:rootIndex]) > 0:\n",
    "        root.left = buildBST(arr[:rootIndex])\n",
    "    if len(arr[rootIndex + 1:]) > 0:\n",
    "        root.right = buildBST(arr[rootIndex + 1:])\n",
    "    \n",
    "    \n",
    "    return root\n",
    "    \n",
    "    \n",
    "    \n",
    "    \n",
    "    \n",
    "    \n",
    "    \n",
    "    \n",
    "    \n",
    "    \n",
    "    \n",
    "    \n",
    "    \n",
    "    \n",
    "    \n",
    "    \n",
    "    \n",
    "    \n",
    "    \n",
    "    \n",
    "    \n",
    "    \n",
    "    \n",
    "    "
   ]
  },
  {
   "cell_type": "code",
   "execution_count": 48,
   "id": "devoted-contrast",
   "metadata": {},
   "outputs": [],
   "source": [
    "arr = [1,2,3,4,5,6,7]"
   ]
  },
  {
   "cell_type": "code",
   "execution_count": 49,
   "id": "divided-graphic",
   "metadata": {},
   "outputs": [],
   "source": [
    "root = buildBST(arr)"
   ]
  },
  {
   "cell_type": "code",
   "execution_count": 50,
   "id": "furnished-composer",
   "metadata": {},
   "outputs": [
    {
     "name": "stdout",
     "output_type": "stream",
     "text": [
      "4\n",
      "2\n",
      "6\n",
      "1\n",
      "3\n",
      "5\n",
      "7\n"
     ]
    }
   ],
   "source": [
    "BfsTraversal(root)"
   ]
  },
  {
   "cell_type": "code",
   "execution_count": 51,
   "id": "blind-timothy",
   "metadata": {},
   "outputs": [],
   "source": [
    "def BfsTraversal(root):\n",
    "\n",
    "    q = deque()\n",
    "    q.append(root)\n",
    "    while q:\n",
    "        node = q.popleft()\n",
    "        print(node.val)\n",
    "        if node.left:\n",
    "            q.append(node.left)\n",
    "        if node.right:\n",
    "            q.append(node.right)\n",
    "        "
   ]
  },
  {
   "cell_type": "code",
   "execution_count": 52,
   "id": "champion-maria",
   "metadata": {},
   "outputs": [],
   "source": [
    "arr2 = [1,2,3,4,5,6]"
   ]
  },
  {
   "cell_type": "code",
   "execution_count": 53,
   "id": "opening-pledge",
   "metadata": {},
   "outputs": [],
   "source": [
    "root2 = buildBST(arr2)"
   ]
  },
  {
   "cell_type": "code",
   "execution_count": 54,
   "id": "exotic-discount",
   "metadata": {},
   "outputs": [
    {
     "name": "stdout",
     "output_type": "stream",
     "text": [
      "4\n",
      "2\n",
      "6\n",
      "1\n",
      "3\n",
      "5\n"
     ]
    }
   ],
   "source": [
    "BfsTraversal(root2)"
   ]
  },
  {
   "cell_type": "markdown",
   "id": "twelve-great",
   "metadata": {},
   "source": [
    "## 4.3"
   ]
  },
  {
   "cell_type": "code",
   "execution_count": 57,
   "id": "instrumental-special",
   "metadata": {},
   "outputs": [],
   "source": [
    "# Definition for singly-linked list.\n",
    "class ListNode:\n",
    "    def __init__(self, x = 0):\n",
    "        self.val = x\n",
    "        self.next = None\n",
    "    def printLL(self):\n",
    "        temp = self\n",
    "        \n",
    "        while temp != None:\n",
    "            print(temp.val)\n",
    "            temp = temp.next\n",
    "        "
   ]
  },
  {
   "cell_type": "code",
   "execution_count": 58,
   "id": "later-jewel",
   "metadata": {},
   "outputs": [
    {
     "data": {
      "text/plain": [
       "<__main__.ListNode at 0x10a758ef0>"
      ]
     },
     "execution_count": 58,
     "metadata": {},
     "output_type": "execute_result"
    }
   ],
   "source": []
  },
  {
   "cell_type": "code",
   "execution_count": 86,
   "id": "spoken-monte",
   "metadata": {},
   "outputs": [],
   "source": [
    "def addNodeToLL (head,node):\n",
    "    if head == None:\n",
    "        return \n",
    "    elif head.next == None:\n",
    "        head.next = ListNode(node)\n",
    "        return\n",
    "    \n",
    "    temp = head\n",
    "    \n",
    "    while temp.next:\n",
    "        temp = temp.next\n",
    "        \n",
    "    temp.next = ListNode(node)\n",
    "    return head\n",
    "        \n",
    "    \n",
    "    \n",
    "def listOfDepth(root):\n",
    "    q = deque()\n",
    "    q.append((root,0))\n",
    "    if root == None:\n",
    "        return root\n",
    "    \n",
    "    LL = ListNode(root.val)\n",
    "    ret = [LL]\n",
    "    \n",
    "    \n",
    "    while q:\n",
    "        node = q.popleft()\n",
    "\n",
    "        \n",
    "        if node[1] != 0:\n",
    "            \n",
    "            if len(ret) < node[1] + 1:\n",
    "                ret.append(ListNode(node[0].val))\n",
    "            else:\n",
    "                print(node[0].val)\n",
    "                addNodeToLL(ret[node[1]],node[0].val)\n",
    "            \n",
    "        \n",
    "        if node[0].left:\n",
    "            q.append((node[0].left,node[1]+1))\n",
    "        if node[0].right:\n",
    "            q.append((node[0].right,node[1]+1))\n",
    "        \n",
    "    return ret"
   ]
  },
  {
   "cell_type": "code",
   "execution_count": 87,
   "id": "wooden-salon",
   "metadata": {},
   "outputs": [
    {
     "name": "stdout",
     "output_type": "stream",
     "text": [
      "6\n",
      "3\n",
      "5\n",
      "7\n"
     ]
    }
   ],
   "source": [
    "arrayOfLists = listOfDepth(root)"
   ]
  },
  {
   "cell_type": "code",
   "execution_count": 88,
   "id": "thirty-label",
   "metadata": {},
   "outputs": [
    {
     "name": "stdout",
     "output_type": "stream",
     "text": [
      "4\n",
      "_______end of list__________\n",
      "2\n",
      "6\n",
      "_______end of list__________\n",
      "1\n",
      "3\n",
      "5\n",
      "7\n",
      "_______end of list__________\n"
     ]
    }
   ],
   "source": [
    "for l in arrayOfLists:\n",
    "    ListNode.printLL(l)\n",
    "    print('_______end of list__________')"
   ]
  },
  {
   "cell_type": "code",
   "execution_count": null,
   "id": "massive-flashing",
   "metadata": {},
   "outputs": [],
   "source": []
  }
 ],
 "metadata": {
  "kernelspec": {
   "display_name": "Python 3",
   "language": "python",
   "name": "python3"
  },
  "language_info": {
   "codemirror_mode": {
    "name": "ipython",
    "version": 3
   },
   "file_extension": ".py",
   "mimetype": "text/x-python",
   "name": "python",
   "nbconvert_exporter": "python",
   "pygments_lexer": "ipython3",
   "version": "3.7.3"
  }
 },
 "nbformat": 4,
 "nbformat_minor": 5
}
