{
 "cells": [
  {
   "cell_type": "code",
   "execution_count": null,
   "id": "renewable-point",
   "metadata": {},
   "outputs": [],
   "source": []
  },
  {
   "cell_type": "code",
   "execution_count": null,
   "id": "stable-utility",
   "metadata": {},
   "outputs": [],
   "source": []
  },
  {
   "cell_type": "code",
   "execution_count": null,
   "id": "regulated-cement",
   "metadata": {},
   "outputs": [],
   "source": []
  },
  {
   "cell_type": "markdown",
   "id": "copyrighted-travel",
   "metadata": {},
   "source": [
    "### 3.2"
   ]
  },
  {
   "cell_type": "code",
   "execution_count": 67,
   "id": "russian-scientist",
   "metadata": {},
   "outputs": [],
   "source": [
    "# StackMin\n",
    "\n",
    "class StackMin:\n",
    "    def __init__(self,data):\n",
    "        self.stack = []\n",
    "        self.min = []\n",
    "        # separating the variables instanciation from the append,\n",
    "        # so we can re-use the stack after we empty it\n",
    "        self.stack.append(data)\n",
    "        self.min.append(data)\n",
    "        \n",
    "    def push (self,data):\n",
    "\n",
    "        if len(self.min) == 0 or self.min[-1] > data:\n",
    "            self.min.append(data)\n",
    "        else:\n",
    "            #in other languages such as C this can be done in O(1), \n",
    "            #where you cann add at the end of a list in O(1), but\n",
    "            #here it is done in O(n)\n",
    "            self.min = data + self.min\n",
    "        self.stack.append(data)\n",
    "    \n",
    "    def pop(self):\n",
    "        if len(self.stack) == 0:\n",
    "            return 'empty stack'\n",
    "        self.min.pop()\n",
    "        return self.stack.pop()\n",
    "    \n",
    "    def sMin(self):\n",
    "        if len(self.stack) == 0:\n",
    "            return 'empty stack'\n",
    "        return self.min[-1]\n",
    "        \n",
    "\n",
    "        \n",
    "        \n",
    "        \n",
    "        \n",
    "        \n",
    "        \n",
    "        \n",
    "        \n",
    "        \n",
    "        "
   ]
  },
  {
   "cell_type": "code",
   "execution_count": 68,
   "id": "equipped-incentive",
   "metadata": {},
   "outputs": [],
   "source": [
    "x = StackMin(4)"
   ]
  },
  {
   "cell_type": "code",
   "execution_count": 69,
   "id": "brave-manor",
   "metadata": {},
   "outputs": [],
   "source": [
    "x.push(3)"
   ]
  },
  {
   "cell_type": "code",
   "execution_count": 70,
   "id": "judicial-salon",
   "metadata": {},
   "outputs": [],
   "source": [
    "x.push(-3)"
   ]
  },
  {
   "cell_type": "code",
   "execution_count": 71,
   "id": "adjustable-validation",
   "metadata": {},
   "outputs": [
    {
     "data": {
      "text/plain": [
       "-3"
      ]
     },
     "execution_count": 71,
     "metadata": {},
     "output_type": "execute_result"
    }
   ],
   "source": [
    "x.sMin()"
   ]
  },
  {
   "cell_type": "code",
   "execution_count": 72,
   "id": "tough-uniform",
   "metadata": {},
   "outputs": [
    {
     "data": {
      "text/plain": [
       "-3"
      ]
     },
     "execution_count": 72,
     "metadata": {},
     "output_type": "execute_result"
    }
   ],
   "source": [
    "x.pop()"
   ]
  },
  {
   "cell_type": "code",
   "execution_count": 73,
   "id": "lesbian-roberts",
   "metadata": {},
   "outputs": [
    {
     "data": {
      "text/plain": [
       "3"
      ]
     },
     "execution_count": 73,
     "metadata": {},
     "output_type": "execute_result"
    }
   ],
   "source": [
    "x.sMin()"
   ]
  },
  {
   "cell_type": "code",
   "execution_count": 74,
   "id": "novel-failing",
   "metadata": {},
   "outputs": [
    {
     "data": {
      "text/plain": [
       "3"
      ]
     },
     "execution_count": 74,
     "metadata": {},
     "output_type": "execute_result"
    }
   ],
   "source": [
    "x.pop()"
   ]
  },
  {
   "cell_type": "code",
   "execution_count": 75,
   "id": "practical-penalty",
   "metadata": {},
   "outputs": [
    {
     "data": {
      "text/plain": [
       "4"
      ]
     },
     "execution_count": 75,
     "metadata": {},
     "output_type": "execute_result"
    }
   ],
   "source": [
    "x.sMin()"
   ]
  },
  {
   "cell_type": "code",
   "execution_count": 76,
   "id": "according-fields",
   "metadata": {},
   "outputs": [
    {
     "data": {
      "text/plain": [
       "4"
      ]
     },
     "execution_count": 76,
     "metadata": {},
     "output_type": "execute_result"
    }
   ],
   "source": [
    "x.pop()"
   ]
  },
  {
   "cell_type": "code",
   "execution_count": 77,
   "id": "concerned-fitness",
   "metadata": {},
   "outputs": [
    {
     "data": {
      "text/plain": [
       "'empty stack'"
      ]
     },
     "execution_count": 77,
     "metadata": {},
     "output_type": "execute_result"
    }
   ],
   "source": [
    "x.sMin()"
   ]
  },
  {
   "cell_type": "code",
   "execution_count": 78,
   "id": "material-electronics",
   "metadata": {},
   "outputs": [],
   "source": [
    "x.push(3)"
   ]
  },
  {
   "cell_type": "code",
   "execution_count": 79,
   "id": "revolutionary-affiliation",
   "metadata": {},
   "outputs": [
    {
     "data": {
      "text/plain": [
       "3"
      ]
     },
     "execution_count": 79,
     "metadata": {},
     "output_type": "execute_result"
    }
   ],
   "source": [
    "x.sMin()"
   ]
  },
  {
   "cell_type": "code",
   "execution_count": 80,
   "id": "american-defense",
   "metadata": {},
   "outputs": [
    {
     "data": {
      "text/plain": [
       "3"
      ]
     },
     "execution_count": 80,
     "metadata": {},
     "output_type": "execute_result"
    }
   ],
   "source": [
    "x.pop()"
   ]
  },
  {
   "cell_type": "code",
   "execution_count": null,
   "id": "pacific-dublin",
   "metadata": {},
   "outputs": [],
   "source": []
  }
 ],
 "metadata": {
  "kernelspec": {
   "display_name": "Python 3",
   "language": "python",
   "name": "python3"
  },
  "language_info": {
   "codemirror_mode": {
    "name": "ipython",
    "version": 3
   },
   "file_extension": ".py",
   "mimetype": "text/x-python",
   "name": "python",
   "nbconvert_exporter": "python",
   "pygments_lexer": "ipython3",
   "version": "3.7.3"
  }
 },
 "nbformat": 4,
 "nbformat_minor": 5
}
